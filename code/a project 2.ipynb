{
 "cells": [
  {
   "cell_type": "markdown",
   "metadata": {},
   "source": [
    "whole people\n",
    "system(int state, beta, gamma)\n",
    "timefreame for schedule\n",
    "run simulation (sys, sch)\n",
    "    create results\n",
    "    for t to t end\n",
    "        get new beta\n",
    "        update\n",
    "        add to results\n",
    "    return results"
   ]
  },
  {
   "cell_type": "code",
   "execution_count": 1,
   "metadata": {
    "collapsed": true
   },
   "outputs": [],
   "source": [
    "%matplotlib inline\n",
    "\n",
    "from modsim import *\n",
    "from pandas import read_excel"
   ]
  },
  {
   "cell_type": "code",
   "execution_count": 3,
   "metadata": {
    "collapsed": true
   },
   "outputs": [],
   "source": [
    "filename = \"data/project2.xlsx\"\n",
    "table = read_excel(filename, header = 0, index_col = 0, sheetname = 'Sheet2')\n",
    "#filename2 = \"data/project2survey.xlsx\"\n",
    "#tableSurvey = read_excel(filename2, header = 0, index_col = 0)\n",
    "#The first file is our chosen values, the second file is the survey data"
   ]
  },
  {
   "cell_type": "code",
   "execution_count": 4,
   "metadata": {
    "collapsed": true
   },
   "outputs": [],
   "source": [
    "table.columns = ['beta']\n",
    "#tableSurvey.columns = ['beta']\n",
    "#Dunno how the survey data is actually going to be formatted, so this is subject to change"
   ]
  },
  {
   "cell_type": "code",
   "execution_count": 7,
   "metadata": {
    "collapsed": true
   },
   "outputs": [],
   "source": [
    "def make_system(beta, gamma):\n",
    "    \"\"\"Make a system object for the SIR model.\n",
    "    \n",
    "    beta: contact rate in days\n",
    "    gamma: recovery rate in days\n",
    "    \n",
    "    returns: System object\n",
    "    \"\"\"\n",
    "    init = State(S=349, I=1, R=0) #Upperclassmen arrived in the same week as freshmen this year, \n",
    "    init /= sum(init)             #so we can't really model it due to our time steps\n",
    "\n",
    "    t0 = 1 #The chosen table starts at 1\n",
    "    t_end = 38 #And ends at 39, but t + 1\n",
    "\n",
    "    return System(init=init, t0=t0, t_end=t_end,\n",
    "                  beta=beta, gamma=gamma)"
   ]
  },
  {
   "cell_type": "code",
   "execution_count": 8,
   "metadata": {
    "collapsed": true
   },
   "outputs": [],
   "source": [
    "tc = 3      # time between contacts in days \n",
    "tr = 4      # recovery time in days\n",
    "\n",
    "beta = 1 / tc      # contact rate in per day\n",
    "gamma = 1 / tr     # recovery rate in per day\n",
    "\n",
    "pop = make_system(beta, gamma)\n",
    "popFixedBeta = make_system(beta, gamma)"
   ]
  },
  {
   "cell_type": "code",
   "execution_count": 9,
   "metadata": {
    "collapsed": true
   },
   "outputs": [],
   "source": [
    "def updateVaryBeta(state, system, t, table):\n",
    "    \"\"\"Update the SIR model with varying beta.\n",
    "    \n",
    "    state: State with variables S, I, R\n",
    "    system: System with beta and gamma\n",
    "    t: Int representing current week\n",
    "    table: DataTable of beta values\n",
    "    \n",
    "    returns: State object\n",
    "    \"\"\"\n",
    "    s, i, r = state\n",
    "    \n",
    "    system.beta = update_beta(t, table) #Moved the varying of beta to the update function\n",
    "\n",
    "    infected = system.beta * i * s    \n",
    "    recovered = system.gamma * i\n",
    "    \n",
    "    s -= infected\n",
    "    i += infected - recovered\n",
    "    r += recovered\n",
    "    \n",
    "    return State(S=s, I=i, R=r)"
   ]
  },
  {
   "cell_type": "code",
   "execution_count": 15,
   "metadata": {
    "collapsed": true
   },
   "outputs": [],
   "source": [
    "def update(state, system, t, table):\n",
    "    \"\"\"Update the SIR model without varying beta.\n",
    "    \n",
    "    state: State with variables S, I, R\n",
    "    system: System with beta and gamma\n",
    "    t: Int representing current week\n",
    "    table: DataTable of beta values\n",
    "    \n",
    "    returns: State object\n",
    "    \"\"\"\n",
    "    s, i, r = state\n",
    "\n",
    "    infected = system.beta * i * s    \n",
    "    recovered = system.gamma * i\n",
    "    \n",
    "    s -= infected\n",
    "    i += infected - recovered\n",
    "    r += recovered\n",
    "    \n",
    "    return State(S=s, I=i, R=r)"
   ]
  },
  {
   "cell_type": "code",
   "execution_count": 16,
   "metadata": {
    "collapsed": true
   },
   "outputs": [],
   "source": [
    "def update_beta(n, schedule):\n",
    "    \"\"\"Generates a new beta for the current week\n",
    "    n: Integer, representing week number\n",
    "    schedule: DataTable of beta values\n",
    "    \"\"\"\n",
    "    beta = schedule.beta[n] + 0.08 #Added because the winter break is long enough that all diseases die out, which screws with the model\n",
    "    return beta"
   ]
  },
  {
   "cell_type": "code",
   "execution_count": 17,
   "metadata": {
    "collapsed": true
   },
   "outputs": [],
   "source": [
    "def run_simulation(system, update_func, table):\n",
    "    \"\"\"Runs a simulation of the system.\n",
    "    \n",
    "    Add a DataFrame to the System: results\n",
    "    \n",
    "    system: System object\n",
    "    update_func: function that updates state\n",
    "    table: A DataTable of time and data\n",
    "    \"\"\"\n",
    "    frame = DataFrame(columns=system.init.index)\n",
    "    frame.loc[system.t0] = system.init\n",
    "    \n",
    "    for t in linrange(system.t0, system.t_end):\n",
    "        frame.loc[t+1] = update_func(frame.loc[t], system, t, table)\n",
    "    \n",
    "    system.results = frame"
   ]
  },
  {
   "cell_type": "code",
   "execution_count": 18,
   "metadata": {
    "collapsed": true
   },
   "outputs": [],
   "source": [
    "def plot_results(system):\n",
    "    \"\"\"Plots the results of the system.\n",
    "    \n",
    "    system: System object\n",
    "    \"\"\"\n",
    "    newfig()\n",
    "    plot(system.results.S, \"b-\", label = \"Susceptible\")\n",
    "    plot(system.results.I, \"r-\", label = \"Infected\")\n",
    "    plot(system.results.R, \"g\", label = \"Recovered\")\n",
    "    decorate(xlabel = \"Time (Weeks)\",\n",
    "            ylabel = \"Fraction of Population\")"
   ]
  },
  {
   "cell_type": "code",
   "execution_count": 23,
   "metadata": {
    "collapsed": true
   },
   "outputs": [],
   "source": [
    "def plotDifference(series1, series2):\n",
    "    \"\"\"Plots the difference between series1 and series2\n",
    "    \n",
    "    series1: A TimeSeries of data\n",
    "    series2: A TimeSeries of data\n",
    "    \"\"\"\n",
    "    newfig()\n",
    "    result = TimeSeries()\n",
    "    for t in series1.index:\n",
    "        result[t] = series1[t] - series2[t] #Creates a TimeSeries where the elements are the differences in the two series\n",
    "    plot(result)\n",
    "    decorate(xlabel = \"Time (Weeks)\",\n",
    "            ylabel = \"Error\")"
   ]
  },
  {
   "cell_type": "code",
   "execution_count": 24,
   "metadata": {
    "collapsed": true
   },
   "outputs": [],
   "source": [
    "def getAverageDifference(series1, series2):\n",
    "    \"\"\"Takes the average difference of the elements in series1 and series2\n",
    "    \n",
    "    series1: A TimeSeries of data\n",
    "    series2: A TimeSeries of data\n",
    "    \"\"\"\n",
    "    result = 0\n",
    "    for t in series1.index: \n",
    "        result += series1[t] - series2[t] #Takes the difference in each of the elements of the series and sums them\n",
    "    result = result / series1.index.size #Apparently, this is how you get the number of elements in an index?\n",
    "    return result"
   ]
  },
  {
   "cell_type": "code",
   "execution_count": 25,
   "metadata": {
    "collapsed": true
   },
   "outputs": [],
   "source": [
    "run_simulation(pop, updateVaryBeta, table)\n",
    "run_simulation(popFixedBeta, update, table)"
   ]
  },
  {
   "cell_type": "code",
   "execution_count": 27,
   "metadata": {},
   "outputs": [
    {
     "data": {
      "image/png": "[encoded data removed]",
      "text/plain": [
       "<matplotlib.figure.Figure at 0x1c3cd6d6860>"
      ]
     },
     "metadata": {},
     "output_type": "display_data"
    },
    {
     "data": {
      "image/png": "[encoded data removed]",
      "text/plain": [
       "<matplotlib.figure.Figure at 0x1c3cd6d63c8>"
      ]
     },
     "metadata": {},
     "output_type": "display_data"
    }
   ],
   "source": [
    "plot_results(pop)\n",
    "plot_results(popFixedBeta)"
   ]
  },
  {
   "cell_type": "code",
   "execution_count": 5,
   "metadata": {},
   "outputs": [
    {
     "data": {
      "text/plain": [
       "1"
      ]
     },
     "execution_count": 5,
     "metadata": {},
     "output_type": "execute_result"
    }
   ],
   "source": []
  },
  {
   "cell_type": "code",
   "execution_count": null,
   "metadata": {
    "collapsed": true
   },
   "outputs": [],
   "source": []
  }
 ],
 "metadata": {
  "kernelspec": {
   "display_name": "Python 3",
   "language": "python",
   "name": "python3"
  },
  "language_info": {
   "codemirror_mode": {
    "name": "ipython",
    "version": 3
   },
   "file_extension": ".py",
   "mimetype": "text/x-python",
   "name": "python",
   "nbconvert_exporter": "python",
   "pygments_lexer": "ipython3",
   "version": "3.6.1"
  }
 },
 "nbformat": 4,
 "nbformat_minor": 2
}
