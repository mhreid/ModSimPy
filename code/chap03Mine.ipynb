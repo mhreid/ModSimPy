{
 "cells": [
  {
   "cell_type": "markdown",
   "metadata": {},
   "source": [
    "# Modeling and Simulation in Python\n",
    "\n",
    "Chapter 3: Explain\n",
    "\n",
    "Copyright 2017 Allen Downey\n",
    "\n",
    "License: [Creative Commons Attribution 4.0 International](https://creativecommons.org/licenses/by/4.0)\n"
   ]
  },
  {
   "cell_type": "code",
   "execution_count": 11,
   "metadata": {
    "collapsed": true
   },
   "outputs": [],
   "source": [
    "# If you want the figures to appear in the notebook, \n",
    "# and you want to interact with them, use\n",
    "# %matplotlib notebook\n",
    "\n",
    "# If you want the figures to appear in the notebook, \n",
    "# and you don't want to interact with them, use\n",
    "# %matplotlib inline\n",
    "\n",
    "# If you want the figures to appear in separate windows, use\n",
    "# %matplotlib qt5\n",
    "\n",
    "# To switch from one to another, you have to select Kernel->Restart\n",
    "\n",
    "%matplotlib inline\n",
    "\n",
    "from modsim import *"
   ]
  },
  {
   "cell_type": "markdown",
   "metadata": {},
   "source": [
    "Pandas is a module that provides tools for reading and processing data.  The `read_html` reads a web page from a file or the Internet and creates one DataFrame for each table on the page."
   ]
  },
  {
   "cell_type": "code",
   "execution_count": 12,
   "metadata": {
    "collapsed": true
   },
   "outputs": [],
   "source": [
    "from pandas import read_html"
   ]
  },
  {
   "cell_type": "markdown",
   "metadata": {},
   "source": [
    "The data directory contains a downloaded copy of https://en.wikipedia.org/wiki/World_population_estimates"
   ]
  },
  {
   "cell_type": "code",
   "execution_count": 13,
   "metadata": {
    "collapsed": true
   },
   "outputs": [],
   "source": [
    "filename = 'data/World_population_estimates.html'\n",
    "tables = read_html(filename, header=0, index_col=0, decimal='M')"
   ]
  },
  {
   "cell_type": "markdown",
   "metadata": {},
   "source": [
    "`tables` is a sequence of DataFrame objects.  We can select the DataFrame we want using the bracket operator.  The tables are numbered from 0, so `table2` is actually the third table on the page.\n",
    "\n",
    "`head` selects the header and the first five rows."
   ]
  },
  {
   "cell_type": "code",
   "execution_count": 14,
   "metadata": {
    "scrolled": true
   },
   "outputs": [
    {
     "data": {
      "text/html": [
       "<div>\n",
       "<style>\n",
       "    .dataframe thead tr:only-child th {\n",
       "        text-align: right;\n",
       "    }\n",
       "\n",
       "    .dataframe thead th {\n",
       "        text-align: left;\n",
       "    }\n",
       "\n",
       "    .dataframe tbody tr th {\n",
       "        vertical-align: top;\n",
       "    }\n",
       "</style>\n",
       "<table border=\"1\" class=\"dataframe\">\n",
       "  <thead>\n",
       "    <tr style=\"text-align: right;\">\n",
       "      <th></th>\n",
       "      <th>United States Census Bureau (2015)[18]</th>\n",
       "      <th>Population Reference Bureau (1973–2015)[6]</th>\n",
       "      <th>United Nations Department of Economic and Social Affairs (2015)[7]</th>\n",
       "      <th>Maddison (2008)[8]</th>\n",
       "      <th>HYDE (2007)[15]</th>\n",
       "      <th>Tanton (1994)[9]</th>\n",
       "      <th>Biraben (1980)[10]</th>\n",
       "      <th>McEvedy &amp; Jones (1978)[11]</th>\n",
       "      <th>Thomlinson (1975)[12]</th>\n",
       "      <th>Durand (1974)[13]</th>\n",
       "      <th>Clark (1967)[14]</th>\n",
       "    </tr>\n",
       "    <tr>\n",
       "      <th>Year</th>\n",
       "      <th></th>\n",
       "      <th></th>\n",
       "      <th></th>\n",
       "      <th></th>\n",
       "      <th></th>\n",
       "      <th></th>\n",
       "      <th></th>\n",
       "      <th></th>\n",
       "      <th></th>\n",
       "      <th></th>\n",
       "      <th></th>\n",
       "    </tr>\n",
       "  </thead>\n",
       "  <tbody>\n",
       "    <tr>\n",
       "      <th>1950</th>\n",
       "      <td>2557628654</td>\n",
       "      <td>2.516000e+09</td>\n",
       "      <td>2525149000</td>\n",
       "      <td>2.544000e+09</td>\n",
       "      <td>2.527960e+09</td>\n",
       "      <td>2.400000e+09</td>\n",
       "      <td>2.527000e+09</td>\n",
       "      <td>2.500000e+09</td>\n",
       "      <td>2.400000e+09</td>\n",
       "      <td>NaN</td>\n",
       "      <td>2.486000e+09</td>\n",
       "    </tr>\n",
       "    <tr>\n",
       "      <th>1951</th>\n",
       "      <td>2594939877</td>\n",
       "      <td>NaN</td>\n",
       "      <td>2572850917</td>\n",
       "      <td>2.571663e+09</td>\n",
       "      <td>NaN</td>\n",
       "      <td>NaN</td>\n",
       "      <td>NaN</td>\n",
       "      <td>NaN</td>\n",
       "      <td>NaN</td>\n",
       "      <td>NaN</td>\n",
       "      <td>NaN</td>\n",
       "    </tr>\n",
       "    <tr>\n",
       "      <th>1952</th>\n",
       "      <td>2636772306</td>\n",
       "      <td>NaN</td>\n",
       "      <td>2619292068</td>\n",
       "      <td>2.617949e+09</td>\n",
       "      <td>NaN</td>\n",
       "      <td>NaN</td>\n",
       "      <td>NaN</td>\n",
       "      <td>NaN</td>\n",
       "      <td>NaN</td>\n",
       "      <td>NaN</td>\n",
       "      <td>NaN</td>\n",
       "    </tr>\n",
       "    <tr>\n",
       "      <th>1953</th>\n",
       "      <td>2682053389</td>\n",
       "      <td>NaN</td>\n",
       "      <td>2665865392</td>\n",
       "      <td>2.665959e+09</td>\n",
       "      <td>NaN</td>\n",
       "      <td>NaN</td>\n",
       "      <td>NaN</td>\n",
       "      <td>NaN</td>\n",
       "      <td>NaN</td>\n",
       "      <td>NaN</td>\n",
       "      <td>NaN</td>\n",
       "    </tr>\n",
       "    <tr>\n",
       "      <th>1954</th>\n",
       "      <td>2730228104</td>\n",
       "      <td>NaN</td>\n",
       "      <td>2713172027</td>\n",
       "      <td>2.716927e+09</td>\n",
       "      <td>NaN</td>\n",
       "      <td>NaN</td>\n",
       "      <td>NaN</td>\n",
       "      <td>NaN</td>\n",
       "      <td>NaN</td>\n",
       "      <td>NaN</td>\n",
       "      <td>NaN</td>\n",
       "    </tr>\n",
       "  </tbody>\n",
       "</table>\n",
       "</div>"
      ],
      "text/plain": [
       "      United States Census Bureau (2015)[18]  \\\n",
       "Year                                           \n",
       "1950                              2557628654   \n",
       "1951                              2594939877   \n",
       "1952                              2636772306   \n",
       "1953                              2682053389   \n",
       "1954                              2730228104   \n",
       "\n",
       "      Population Reference Bureau (1973–2015)[6]  \\\n",
       "Year                                               \n",
       "1950                                2.516000e+09   \n",
       "1951                                         NaN   \n",
       "1952                                         NaN   \n",
       "1953                                         NaN   \n",
       "1954                                         NaN   \n",
       "\n",
       "      United Nations Department of Economic and Social Affairs (2015)[7]  \\\n",
       "Year                                                                       \n",
       "1950                                         2525149000                    \n",
       "1951                                         2572850917                    \n",
       "1952                                         2619292068                    \n",
       "1953                                         2665865392                    \n",
       "1954                                         2713172027                    \n",
       "\n",
       "      Maddison (2008)[8]  HYDE (2007)[15]  Tanton (1994)[9]  \\\n",
       "Year                                                          \n",
       "1950        2.544000e+09     2.527960e+09      2.400000e+09   \n",
       "1951        2.571663e+09              NaN               NaN   \n",
       "1952        2.617949e+09              NaN               NaN   \n",
       "1953        2.665959e+09              NaN               NaN   \n",
       "1954        2.716927e+09              NaN               NaN   \n",
       "\n",
       "      Biraben (1980)[10]  McEvedy & Jones (1978)[11]  Thomlinson (1975)[12]  \\\n",
       "Year                                                                          \n",
       "1950        2.527000e+09                2.500000e+09           2.400000e+09   \n",
       "1951                 NaN                         NaN                    NaN   \n",
       "1952                 NaN                         NaN                    NaN   \n",
       "1953                 NaN                         NaN                    NaN   \n",
       "1954                 NaN                         NaN                    NaN   \n",
       "\n",
       "     Durand (1974)[13]  Clark (1967)[14]  \n",
       "Year                                      \n",
       "1950               NaN      2.486000e+09  \n",
       "1951               NaN               NaN  \n",
       "1952               NaN               NaN  \n",
       "1953               NaN               NaN  \n",
       "1954               NaN               NaN  "
      ]
     },
     "execution_count": 14,
     "metadata": {},
     "output_type": "execute_result"
    }
   ],
   "source": [
    "table2 = tables[2]\n",
    "table2.head()"
   ]
  },
  {
   "cell_type": "markdown",
   "metadata": {},
   "source": [
    "`tail` selects the last five rows."
   ]
  },
  {
   "cell_type": "code",
   "execution_count": 15,
   "metadata": {
    "scrolled": true
   },
   "outputs": [
    {
     "data": {
      "text/html": [
       "<div>\n",
       "<style>\n",
       "    .dataframe thead tr:only-child th {\n",
       "        text-align: right;\n",
       "    }\n",
       "\n",
       "    .dataframe thead th {\n",
       "        text-align: left;\n",
       "    }\n",
       "\n",
       "    .dataframe tbody tr th {\n",
       "        vertical-align: top;\n",
       "    }\n",
       "</style>\n",
       "<table border=\"1\" class=\"dataframe\">\n",
       "  <thead>\n",
       "    <tr style=\"text-align: right;\">\n",
       "      <th></th>\n",
       "      <th>United States Census Bureau (2015)[18]</th>\n",
       "      <th>Population Reference Bureau (1973–2015)[6]</th>\n",
       "      <th>United Nations Department of Economic and Social Affairs (2015)[7]</th>\n",
       "      <th>Maddison (2008)[8]</th>\n",
       "      <th>HYDE (2007)[15]</th>\n",
       "      <th>Tanton (1994)[9]</th>\n",
       "      <th>Biraben (1980)[10]</th>\n",
       "      <th>McEvedy &amp; Jones (1978)[11]</th>\n",
       "      <th>Thomlinson (1975)[12]</th>\n",
       "      <th>Durand (1974)[13]</th>\n",
       "      <th>Clark (1967)[14]</th>\n",
       "    </tr>\n",
       "    <tr>\n",
       "      <th>Year</th>\n",
       "      <th></th>\n",
       "      <th></th>\n",
       "      <th></th>\n",
       "      <th></th>\n",
       "      <th></th>\n",
       "      <th></th>\n",
       "      <th></th>\n",
       "      <th></th>\n",
       "      <th></th>\n",
       "      <th></th>\n",
       "      <th></th>\n",
       "    </tr>\n",
       "  </thead>\n",
       "  <tbody>\n",
       "    <tr>\n",
       "      <th>2011</th>\n",
       "      <td>6944055583</td>\n",
       "      <td>6.986951e+09</td>\n",
       "      <td>6997998760</td>\n",
       "      <td>NaN</td>\n",
       "      <td>NaN</td>\n",
       "      <td>NaN</td>\n",
       "      <td>NaN</td>\n",
       "      <td>NaN</td>\n",
       "      <td>NaN</td>\n",
       "      <td>NaN</td>\n",
       "      <td>NaN</td>\n",
       "    </tr>\n",
       "    <tr>\n",
       "      <th>2012</th>\n",
       "      <td>7022349283</td>\n",
       "      <td>7.057075e+09</td>\n",
       "      <td>7080072417</td>\n",
       "      <td>NaN</td>\n",
       "      <td>NaN</td>\n",
       "      <td>NaN</td>\n",
       "      <td>NaN</td>\n",
       "      <td>NaN</td>\n",
       "      <td>NaN</td>\n",
       "      <td>NaN</td>\n",
       "      <td>NaN</td>\n",
       "    </tr>\n",
       "    <tr>\n",
       "      <th>2013</th>\n",
       "      <td>7101027895</td>\n",
       "      <td>7.136796e+09</td>\n",
       "      <td>7162119434</td>\n",
       "      <td>NaN</td>\n",
       "      <td>NaN</td>\n",
       "      <td>NaN</td>\n",
       "      <td>NaN</td>\n",
       "      <td>NaN</td>\n",
       "      <td>NaN</td>\n",
       "      <td>NaN</td>\n",
       "      <td>NaN</td>\n",
       "    </tr>\n",
       "    <tr>\n",
       "      <th>2014</th>\n",
       "      <td>7178722893</td>\n",
       "      <td>7.238184e+09</td>\n",
       "      <td>7243784000</td>\n",
       "      <td>NaN</td>\n",
       "      <td>NaN</td>\n",
       "      <td>NaN</td>\n",
       "      <td>NaN</td>\n",
       "      <td>NaN</td>\n",
       "      <td>NaN</td>\n",
       "      <td>NaN</td>\n",
       "      <td>NaN</td>\n",
       "    </tr>\n",
       "    <tr>\n",
       "      <th>2015</th>\n",
       "      <td>7256490011</td>\n",
       "      <td>7.336435e+09</td>\n",
       "      <td>7349472000</td>\n",
       "      <td>NaN</td>\n",
       "      <td>NaN</td>\n",
       "      <td>NaN</td>\n",
       "      <td>NaN</td>\n",
       "      <td>NaN</td>\n",
       "      <td>NaN</td>\n",
       "      <td>NaN</td>\n",
       "      <td>NaN</td>\n",
       "    </tr>\n",
       "  </tbody>\n",
       "</table>\n",
       "</div>"
      ],
      "text/plain": [
       "      United States Census Bureau (2015)[18]  \\\n",
       "Year                                           \n",
       "2011                              6944055583   \n",
       "2012                              7022349283   \n",
       "2013                              7101027895   \n",
       "2014                              7178722893   \n",
       "2015                              7256490011   \n",
       "\n",
       "      Population Reference Bureau (1973–2015)[6]  \\\n",
       "Year                                               \n",
       "2011                                6.986951e+09   \n",
       "2012                                7.057075e+09   \n",
       "2013                                7.136796e+09   \n",
       "2014                                7.238184e+09   \n",
       "2015                                7.336435e+09   \n",
       "\n",
       "      United Nations Department of Economic and Social Affairs (2015)[7]  \\\n",
       "Year                                                                       \n",
       "2011                                         6997998760                    \n",
       "2012                                         7080072417                    \n",
       "2013                                         7162119434                    \n",
       "2014                                         7243784000                    \n",
       "2015                                         7349472000                    \n",
       "\n",
       "      Maddison (2008)[8]  HYDE (2007)[15]  Tanton (1994)[9]  \\\n",
       "Year                                                          \n",
       "2011                 NaN              NaN               NaN   \n",
       "2012                 NaN              NaN               NaN   \n",
       "2013                 NaN              NaN               NaN   \n",
       "2014                 NaN              NaN               NaN   \n",
       "2015                 NaN              NaN               NaN   \n",
       "\n",
       "      Biraben (1980)[10]  McEvedy & Jones (1978)[11]  Thomlinson (1975)[12]  \\\n",
       "Year                                                                          \n",
       "2011                 NaN                         NaN                    NaN   \n",
       "2012                 NaN                         NaN                    NaN   \n",
       "2013                 NaN                         NaN                    NaN   \n",
       "2014                 NaN                         NaN                    NaN   \n",
       "2015                 NaN                         NaN                    NaN   \n",
       "\n",
       "     Durand (1974)[13]  Clark (1967)[14]  \n",
       "Year                                      \n",
       "2011               NaN               NaN  \n",
       "2012               NaN               NaN  \n",
       "2013               NaN               NaN  \n",
       "2014               NaN               NaN  \n",
       "2015               NaN               NaN  "
      ]
     },
     "execution_count": 15,
     "metadata": {},
     "output_type": "execute_result"
    }
   ],
   "source": [
    "table2.tail()"
   ]
  },
  {
   "cell_type": "markdown",
   "metadata": {},
   "source": [
    "Long column names are awkard to work with, but we can replace them with abbreviated names."
   ]
  },
  {
   "cell_type": "code",
   "execution_count": 16,
   "metadata": {
    "collapsed": true
   },
   "outputs": [],
   "source": [
    "table2.columns = ['census', 'prb', 'un', 'maddison', \n",
    "                  'hyde', 'tanton', 'biraben', 'mj', \n",
    "                  'thomlinson', 'durand', 'clark']"
   ]
  },
  {
   "cell_type": "markdown",
   "metadata": {},
   "source": [
    "Here's what the DataFrame looks like now.  \n",
    "\n",
    "Some of the values use scientific notation; for example, `2.544000e+09` is shorthand for $2.544 \\cdot 10^9$ or 2.544 billion.\n",
    "\n",
    "`NaN` is a special value that indicates missing data."
   ]
  },
  {
   "cell_type": "code",
   "execution_count": 17,
   "metadata": {},
   "outputs": [
    {
     "data": {
      "text/html": [
       "<div>\n",
       "<style>\n",
       "    .dataframe thead tr:only-child th {\n",
       "        text-align: right;\n",
       "    }\n",
       "\n",
       "    .dataframe thead th {\n",
       "        text-align: left;\n",
       "    }\n",
       "\n",
       "    .dataframe tbody tr th {\n",
       "        vertical-align: top;\n",
       "    }\n",
       "</style>\n",
       "<table border=\"1\" class=\"dataframe\">\n",
       "  <thead>\n",
       "    <tr style=\"text-align: right;\">\n",
       "      <th></th>\n",
       "      <th>census</th>\n",
       "      <th>prb</th>\n",
       "      <th>un</th>\n",
       "      <th>maddison</th>\n",
       "      <th>hyde</th>\n",
       "      <th>tanton</th>\n",
       "      <th>biraben</th>\n",
       "      <th>mj</th>\n",
       "      <th>thomlinson</th>\n",
       "      <th>durand</th>\n",
       "      <th>clark</th>\n",
       "    </tr>\n",
       "    <tr>\n",
       "      <th>Year</th>\n",
       "      <th></th>\n",
       "      <th></th>\n",
       "      <th></th>\n",
       "      <th></th>\n",
       "      <th></th>\n",
       "      <th></th>\n",
       "      <th></th>\n",
       "      <th></th>\n",
       "      <th></th>\n",
       "      <th></th>\n",
       "      <th></th>\n",
       "    </tr>\n",
       "  </thead>\n",
       "  <tbody>\n",
       "    <tr>\n",
       "      <th>1950</th>\n",
       "      <td>2557628654</td>\n",
       "      <td>2.516000e+09</td>\n",
       "      <td>2525149000</td>\n",
       "      <td>2.544000e+09</td>\n",
       "      <td>2.527960e+09</td>\n",
       "      <td>2.400000e+09</td>\n",
       "      <td>2.527000e+09</td>\n",
       "      <td>2.500000e+09</td>\n",
       "      <td>2.400000e+09</td>\n",
       "      <td>NaN</td>\n",
       "      <td>2.486000e+09</td>\n",
       "    </tr>\n",
       "    <tr>\n",
       "      <th>1951</th>\n",
       "      <td>2594939877</td>\n",
       "      <td>NaN</td>\n",
       "      <td>2572850917</td>\n",
       "      <td>2.571663e+09</td>\n",
       "      <td>NaN</td>\n",
       "      <td>NaN</td>\n",
       "      <td>NaN</td>\n",
       "      <td>NaN</td>\n",
       "      <td>NaN</td>\n",
       "      <td>NaN</td>\n",
       "      <td>NaN</td>\n",
       "    </tr>\n",
       "    <tr>\n",
       "      <th>1952</th>\n",
       "      <td>2636772306</td>\n",
       "      <td>NaN</td>\n",
       "      <td>2619292068</td>\n",
       "      <td>2.617949e+09</td>\n",
       "      <td>NaN</td>\n",
       "      <td>NaN</td>\n",
       "      <td>NaN</td>\n",
       "      <td>NaN</td>\n",
       "      <td>NaN</td>\n",
       "      <td>NaN</td>\n",
       "      <td>NaN</td>\n",
       "    </tr>\n",
       "    <tr>\n",
       "      <th>1953</th>\n",
       "      <td>2682053389</td>\n",
       "      <td>NaN</td>\n",
       "      <td>2665865392</td>\n",
       "      <td>2.665959e+09</td>\n",
       "      <td>NaN</td>\n",
       "      <td>NaN</td>\n",
       "      <td>NaN</td>\n",
       "      <td>NaN</td>\n",
       "      <td>NaN</td>\n",
       "      <td>NaN</td>\n",
       "      <td>NaN</td>\n",
       "    </tr>\n",
       "    <tr>\n",
       "      <th>1954</th>\n",
       "      <td>2730228104</td>\n",
       "      <td>NaN</td>\n",
       "      <td>2713172027</td>\n",
       "      <td>2.716927e+09</td>\n",
       "      <td>NaN</td>\n",
       "      <td>NaN</td>\n",
       "      <td>NaN</td>\n",
       "      <td>NaN</td>\n",
       "      <td>NaN</td>\n",
       "      <td>NaN</td>\n",
       "      <td>NaN</td>\n",
       "    </tr>\n",
       "    <tr>\n",
       "      <th>1955</th>\n",
       "      <td>2782098943</td>\n",
       "      <td>NaN</td>\n",
       "      <td>2761650981</td>\n",
       "      <td>2.769074e+09</td>\n",
       "      <td>NaN</td>\n",
       "      <td>NaN</td>\n",
       "      <td>NaN</td>\n",
       "      <td>NaN</td>\n",
       "      <td>NaN</td>\n",
       "      <td>NaN</td>\n",
       "      <td>NaN</td>\n",
       "    </tr>\n",
       "    <tr>\n",
       "      <th>1956</th>\n",
       "      <td>2835299673</td>\n",
       "      <td>NaN</td>\n",
       "      <td>2811572031</td>\n",
       "      <td>2.822502e+09</td>\n",
       "      <td>NaN</td>\n",
       "      <td>NaN</td>\n",
       "      <td>NaN</td>\n",
       "      <td>NaN</td>\n",
       "      <td>NaN</td>\n",
       "      <td>NaN</td>\n",
       "      <td>NaN</td>\n",
       "    </tr>\n",
       "    <tr>\n",
       "      <th>1957</th>\n",
       "      <td>2891349717</td>\n",
       "      <td>NaN</td>\n",
       "      <td>2863042795</td>\n",
       "      <td>2.879934e+09</td>\n",
       "      <td>NaN</td>\n",
       "      <td>NaN</td>\n",
       "      <td>NaN</td>\n",
       "      <td>NaN</td>\n",
       "      <td>NaN</td>\n",
       "      <td>NaN</td>\n",
       "      <td>NaN</td>\n",
       "    </tr>\n",
       "    <tr>\n",
       "      <th>1958</th>\n",
       "      <td>2948137248</td>\n",
       "      <td>NaN</td>\n",
       "      <td>2916030167</td>\n",
       "      <td>2.939254e+09</td>\n",
       "      <td>NaN</td>\n",
       "      <td>NaN</td>\n",
       "      <td>NaN</td>\n",
       "      <td>NaN</td>\n",
       "      <td>NaN</td>\n",
       "      <td>NaN</td>\n",
       "      <td>NaN</td>\n",
       "    </tr>\n",
       "    <tr>\n",
       "      <th>1959</th>\n",
       "      <td>3000716593</td>\n",
       "      <td>NaN</td>\n",
       "      <td>2970395814</td>\n",
       "      <td>2.995909e+09</td>\n",
       "      <td>NaN</td>\n",
       "      <td>NaN</td>\n",
       "      <td>NaN</td>\n",
       "      <td>NaN</td>\n",
       "      <td>NaN</td>\n",
       "      <td>NaN</td>\n",
       "      <td>NaN</td>\n",
       "    </tr>\n",
       "    <tr>\n",
       "      <th>1960</th>\n",
       "      <td>3043001508</td>\n",
       "      <td>NaN</td>\n",
       "      <td>3026002942</td>\n",
       "      <td>3.041507e+09</td>\n",
       "      <td>3.042000e+09</td>\n",
       "      <td>NaN</td>\n",
       "      <td>NaN</td>\n",
       "      <td>NaN</td>\n",
       "      <td>NaN</td>\n",
       "      <td>NaN</td>\n",
       "      <td>NaN</td>\n",
       "    </tr>\n",
       "    <tr>\n",
       "      <th>1961</th>\n",
       "      <td>3083966929</td>\n",
       "      <td>NaN</td>\n",
       "      <td>3082830266</td>\n",
       "      <td>3.082161e+09</td>\n",
       "      <td>NaN</td>\n",
       "      <td>NaN</td>\n",
       "      <td>NaN</td>\n",
       "      <td>NaN</td>\n",
       "      <td>NaN</td>\n",
       "      <td>NaN</td>\n",
       "      <td>NaN</td>\n",
       "    </tr>\n",
       "    <tr>\n",
       "      <th>1962</th>\n",
       "      <td>3140093217</td>\n",
       "      <td>NaN</td>\n",
       "      <td>3141071531</td>\n",
       "      <td>3.135787e+09</td>\n",
       "      <td>NaN</td>\n",
       "      <td>NaN</td>\n",
       "      <td>NaN</td>\n",
       "      <td>NaN</td>\n",
       "      <td>NaN</td>\n",
       "      <td>NaN</td>\n",
       "      <td>3.036000e+09</td>\n",
       "    </tr>\n",
       "    <tr>\n",
       "      <th>1963</th>\n",
       "      <td>3209827882</td>\n",
       "      <td>NaN</td>\n",
       "      <td>3201178277</td>\n",
       "      <td>3.201354e+09</td>\n",
       "      <td>NaN</td>\n",
       "      <td>NaN</td>\n",
       "      <td>NaN</td>\n",
       "      <td>NaN</td>\n",
       "      <td>NaN</td>\n",
       "      <td>NaN</td>\n",
       "      <td>NaN</td>\n",
       "    </tr>\n",
       "    <tr>\n",
       "      <th>1964</th>\n",
       "      <td>3281201306</td>\n",
       "      <td>NaN</td>\n",
       "      <td>3263738832</td>\n",
       "      <td>3.266477e+09</td>\n",
       "      <td>NaN</td>\n",
       "      <td>NaN</td>\n",
       "      <td>NaN</td>\n",
       "      <td>NaN</td>\n",
       "      <td>NaN</td>\n",
       "      <td>NaN</td>\n",
       "      <td>NaN</td>\n",
       "    </tr>\n",
       "    <tr>\n",
       "      <th>1965</th>\n",
       "      <td>3350425793</td>\n",
       "      <td>NaN</td>\n",
       "      <td>3329122479</td>\n",
       "      <td>3.333138e+09</td>\n",
       "      <td>NaN</td>\n",
       "      <td>NaN</td>\n",
       "      <td>NaN</td>\n",
       "      <td>NaN</td>\n",
       "      <td>NaN</td>\n",
       "      <td>NaN</td>\n",
       "      <td>NaN</td>\n",
       "    </tr>\n",
       "    <tr>\n",
       "      <th>1966</th>\n",
       "      <td>3420677923</td>\n",
       "      <td>NaN</td>\n",
       "      <td>3397475247</td>\n",
       "      <td>3.402224e+09</td>\n",
       "      <td>NaN</td>\n",
       "      <td>NaN</td>\n",
       "      <td>NaN</td>\n",
       "      <td>NaN</td>\n",
       "      <td>NaN</td>\n",
       "      <td>NaN</td>\n",
       "      <td>3.288000e+09</td>\n",
       "    </tr>\n",
       "    <tr>\n",
       "      <th>1967</th>\n",
       "      <td>3490333715</td>\n",
       "      <td>NaN</td>\n",
       "      <td>3468521724</td>\n",
       "      <td>3.471464e+09</td>\n",
       "      <td>NaN</td>\n",
       "      <td>NaN</td>\n",
       "      <td>NaN</td>\n",
       "      <td>NaN</td>\n",
       "      <td>NaN</td>\n",
       "      <td>NaN</td>\n",
       "      <td>NaN</td>\n",
       "    </tr>\n",
       "    <tr>\n",
       "      <th>1968</th>\n",
       "      <td>3562313822</td>\n",
       "      <td>NaN</td>\n",
       "      <td>3541674891</td>\n",
       "      <td>3.543086e+09</td>\n",
       "      <td>NaN</td>\n",
       "      <td>NaN</td>\n",
       "      <td>NaN</td>\n",
       "      <td>NaN</td>\n",
       "      <td>NaN</td>\n",
       "      <td>NaN</td>\n",
       "      <td>NaN</td>\n",
       "    </tr>\n",
       "    <tr>\n",
       "      <th>1969</th>\n",
       "      <td>3637159050</td>\n",
       "      <td>NaN</td>\n",
       "      <td>3616108749</td>\n",
       "      <td>3.615743e+09</td>\n",
       "      <td>NaN</td>\n",
       "      <td>NaN</td>\n",
       "      <td>NaN</td>\n",
       "      <td>NaN</td>\n",
       "      <td>NaN</td>\n",
       "      <td>NaN</td>\n",
       "      <td>NaN</td>\n",
       "    </tr>\n",
       "    <tr>\n",
       "      <th>1970</th>\n",
       "      <td>3712697742</td>\n",
       "      <td>NaN</td>\n",
       "      <td>3691172616</td>\n",
       "      <td>3.691157e+09</td>\n",
       "      <td>3.710000e+09</td>\n",
       "      <td>NaN</td>\n",
       "      <td>3.637000e+09</td>\n",
       "      <td>NaN</td>\n",
       "      <td>3.600000e+09</td>\n",
       "      <td>3,600,000,000– 3,700,000,000</td>\n",
       "      <td>3.632000e+09</td>\n",
       "    </tr>\n",
       "    <tr>\n",
       "      <th>1971</th>\n",
       "      <td>3790326948</td>\n",
       "      <td>NaN</td>\n",
       "      <td>3766754345</td>\n",
       "      <td>3.769818e+09</td>\n",
       "      <td>NaN</td>\n",
       "      <td>NaN</td>\n",
       "      <td>NaN</td>\n",
       "      <td>NaN</td>\n",
       "      <td>NaN</td>\n",
       "      <td>NaN</td>\n",
       "      <td>NaN</td>\n",
       "    </tr>\n",
       "    <tr>\n",
       "      <th>1972</th>\n",
       "      <td>3866568653</td>\n",
       "      <td>NaN</td>\n",
       "      <td>3842873611</td>\n",
       "      <td>3.846499e+09</td>\n",
       "      <td>NaN</td>\n",
       "      <td>NaN</td>\n",
       "      <td>NaN</td>\n",
       "      <td>NaN</td>\n",
       "      <td>NaN</td>\n",
       "      <td>NaN</td>\n",
       "      <td>NaN</td>\n",
       "    </tr>\n",
       "    <tr>\n",
       "      <th>1973</th>\n",
       "      <td>3942096442</td>\n",
       "      <td>NaN</td>\n",
       "      <td>3919182332</td>\n",
       "      <td>3.922793e+09</td>\n",
       "      <td>3.923000e+09</td>\n",
       "      <td>NaN</td>\n",
       "      <td>NaN</td>\n",
       "      <td>NaN</td>\n",
       "      <td>NaN</td>\n",
       "      <td>NaN</td>\n",
       "      <td>3.860000e+09</td>\n",
       "    </tr>\n",
       "    <tr>\n",
       "      <th>1974</th>\n",
       "      <td>4016608813</td>\n",
       "      <td>NaN</td>\n",
       "      <td>3995304922</td>\n",
       "      <td>3.997677e+09</td>\n",
       "      <td>NaN</td>\n",
       "      <td>NaN</td>\n",
       "      <td>NaN</td>\n",
       "      <td>NaN</td>\n",
       "      <td>NaN</td>\n",
       "      <td>NaN</td>\n",
       "      <td>NaN</td>\n",
       "    </tr>\n",
       "    <tr>\n",
       "      <th>1975</th>\n",
       "      <td>4089083233</td>\n",
       "      <td>NaN</td>\n",
       "      <td>4071020434</td>\n",
       "      <td>4.070671e+09</td>\n",
       "      <td>NaN</td>\n",
       "      <td>NaN</td>\n",
       "      <td>NaN</td>\n",
       "      <td>3.900000e+09</td>\n",
       "      <td>4.000000e+09</td>\n",
       "      <td>NaN</td>\n",
       "      <td>NaN</td>\n",
       "    </tr>\n",
       "    <tr>\n",
       "      <th>1976</th>\n",
       "      <td>4160185010</td>\n",
       "      <td>NaN</td>\n",
       "      <td>4146135850</td>\n",
       "      <td>4.141445e+09</td>\n",
       "      <td>NaN</td>\n",
       "      <td>NaN</td>\n",
       "      <td>NaN</td>\n",
       "      <td>NaN</td>\n",
       "      <td>NaN</td>\n",
       "      <td>NaN</td>\n",
       "      <td>NaN</td>\n",
       "    </tr>\n",
       "    <tr>\n",
       "      <th>1977</th>\n",
       "      <td>4232084578</td>\n",
       "      <td>NaN</td>\n",
       "      <td>4220816737</td>\n",
       "      <td>4.213539e+09</td>\n",
       "      <td>NaN</td>\n",
       "      <td>NaN</td>\n",
       "      <td>NaN</td>\n",
       "      <td>NaN</td>\n",
       "      <td>NaN</td>\n",
       "      <td>NaN</td>\n",
       "      <td>NaN</td>\n",
       "    </tr>\n",
       "    <tr>\n",
       "      <th>1978</th>\n",
       "      <td>4304105753</td>\n",
       "      <td>NaN</td>\n",
       "      <td>4295664825</td>\n",
       "      <td>4.286317e+09</td>\n",
       "      <td>NaN</td>\n",
       "      <td>NaN</td>\n",
       "      <td>NaN</td>\n",
       "      <td>NaN</td>\n",
       "      <td>NaN</td>\n",
       "      <td>NaN</td>\n",
       "      <td>NaN</td>\n",
       "    </tr>\n",
       "    <tr>\n",
       "      <th>1979</th>\n",
       "      <td>4379013942</td>\n",
       "      <td>NaN</td>\n",
       "      <td>4371527871</td>\n",
       "      <td>4.363144e+09</td>\n",
       "      <td>NaN</td>\n",
       "      <td>NaN</td>\n",
       "      <td>NaN</td>\n",
       "      <td>NaN</td>\n",
       "      <td>NaN</td>\n",
       "      <td>NaN</td>\n",
       "      <td>NaN</td>\n",
       "    </tr>\n",
       "    <tr>\n",
       "      <th>...</th>\n",
       "      <td>...</td>\n",
       "      <td>...</td>\n",
       "      <td>...</td>\n",
       "      <td>...</td>\n",
       "      <td>...</td>\n",
       "      <td>...</td>\n",
       "      <td>...</td>\n",
       "      <td>...</td>\n",
       "      <td>...</td>\n",
       "      <td>...</td>\n",
       "      <td>...</td>\n",
       "    </tr>\n",
       "    <tr>\n",
       "      <th>1986</th>\n",
       "      <td>4940571232</td>\n",
       "      <td>NaN</td>\n",
       "      <td>4953376710</td>\n",
       "      <td>4.920968e+09</td>\n",
       "      <td>NaN</td>\n",
       "      <td>NaN</td>\n",
       "      <td>NaN</td>\n",
       "      <td>NaN</td>\n",
       "      <td>NaN</td>\n",
       "      <td>NaN</td>\n",
       "      <td>NaN</td>\n",
       "    </tr>\n",
       "    <tr>\n",
       "      <th>1987</th>\n",
       "      <td>5027200492</td>\n",
       "      <td>NaN</td>\n",
       "      <td>5045315871</td>\n",
       "      <td>5.006672e+09</td>\n",
       "      <td>NaN</td>\n",
       "      <td>NaN</td>\n",
       "      <td>NaN</td>\n",
       "      <td>NaN</td>\n",
       "      <td>NaN</td>\n",
       "      <td>NaN</td>\n",
       "      <td>NaN</td>\n",
       "    </tr>\n",
       "    <tr>\n",
       "      <th>1988</th>\n",
       "      <td>5114557167</td>\n",
       "      <td>NaN</td>\n",
       "      <td>5138214688</td>\n",
       "      <td>5.093306e+09</td>\n",
       "      <td>NaN</td>\n",
       "      <td>NaN</td>\n",
       "      <td>NaN</td>\n",
       "      <td>NaN</td>\n",
       "      <td>NaN</td>\n",
       "      <td>NaN</td>\n",
       "      <td>NaN</td>\n",
       "    </tr>\n",
       "    <tr>\n",
       "      <th>1989</th>\n",
       "      <td>5201440110</td>\n",
       "      <td>NaN</td>\n",
       "      <td>5230000000</td>\n",
       "      <td>5.180540e+09</td>\n",
       "      <td>NaN</td>\n",
       "      <td>NaN</td>\n",
       "      <td>NaN</td>\n",
       "      <td>NaN</td>\n",
       "      <td>NaN</td>\n",
       "      <td>NaN</td>\n",
       "      <td>NaN</td>\n",
       "    </tr>\n",
       "    <tr>\n",
       "      <th>1990</th>\n",
       "      <td>5288955934</td>\n",
       "      <td>NaN</td>\n",
       "      <td>5320816667</td>\n",
       "      <td>5.269029e+09</td>\n",
       "      <td>5.308000e+09</td>\n",
       "      <td>NaN</td>\n",
       "      <td>NaN</td>\n",
       "      <td>NaN</td>\n",
       "      <td>NaN</td>\n",
       "      <td>NaN</td>\n",
       "      <td>NaN</td>\n",
       "    </tr>\n",
       "    <tr>\n",
       "      <th>1991</th>\n",
       "      <td>5371585922</td>\n",
       "      <td>NaN</td>\n",
       "      <td>5408908724</td>\n",
       "      <td>5.351922e+09</td>\n",
       "      <td>NaN</td>\n",
       "      <td>NaN</td>\n",
       "      <td>NaN</td>\n",
       "      <td>NaN</td>\n",
       "      <td>NaN</td>\n",
       "      <td>NaN</td>\n",
       "      <td>NaN</td>\n",
       "    </tr>\n",
       "    <tr>\n",
       "      <th>1992</th>\n",
       "      <td>5456136278</td>\n",
       "      <td>NaN</td>\n",
       "      <td>5494899570</td>\n",
       "      <td>5.435722e+09</td>\n",
       "      <td>NaN</td>\n",
       "      <td>NaN</td>\n",
       "      <td>NaN</td>\n",
       "      <td>NaN</td>\n",
       "      <td>NaN</td>\n",
       "      <td>NaN</td>\n",
       "      <td>NaN</td>\n",
       "    </tr>\n",
       "    <tr>\n",
       "      <th>1993</th>\n",
       "      <td>5538268316</td>\n",
       "      <td>NaN</td>\n",
       "      <td>5578865109</td>\n",
       "      <td>5.518127e+09</td>\n",
       "      <td>NaN</td>\n",
       "      <td>NaN</td>\n",
       "      <td>NaN</td>\n",
       "      <td>NaN</td>\n",
       "      <td>NaN</td>\n",
       "      <td>NaN</td>\n",
       "      <td>NaN</td>\n",
       "    </tr>\n",
       "    <tr>\n",
       "      <th>1994</th>\n",
       "      <td>5618682132</td>\n",
       "      <td>NaN</td>\n",
       "      <td>5661086346</td>\n",
       "      <td>5.599396e+09</td>\n",
       "      <td>NaN</td>\n",
       "      <td>NaN</td>\n",
       "      <td>NaN</td>\n",
       "      <td>NaN</td>\n",
       "      <td>NaN</td>\n",
       "      <td>NaN</td>\n",
       "      <td>NaN</td>\n",
       "    </tr>\n",
       "    <tr>\n",
       "      <th>1995</th>\n",
       "      <td>5699202985</td>\n",
       "      <td>5.760000e+09</td>\n",
       "      <td>5741822412</td>\n",
       "      <td>5.681575e+09</td>\n",
       "      <td>NaN</td>\n",
       "      <td>NaN</td>\n",
       "      <td>NaN</td>\n",
       "      <td>NaN</td>\n",
       "      <td>NaN</td>\n",
       "      <td>NaN</td>\n",
       "      <td>NaN</td>\n",
       "    </tr>\n",
       "    <tr>\n",
       "      <th>1996</th>\n",
       "      <td>5779440593</td>\n",
       "      <td>NaN</td>\n",
       "      <td>5821016750</td>\n",
       "      <td>5.762212e+09</td>\n",
       "      <td>NaN</td>\n",
       "      <td>NaN</td>\n",
       "      <td>NaN</td>\n",
       "      <td>NaN</td>\n",
       "      <td>NaN</td>\n",
       "      <td>NaN</td>\n",
       "      <td>NaN</td>\n",
       "    </tr>\n",
       "    <tr>\n",
       "      <th>1997</th>\n",
       "      <td>5857972543</td>\n",
       "      <td>5.840000e+09</td>\n",
       "      <td>5898688337</td>\n",
       "      <td>5.842122e+09</td>\n",
       "      <td>NaN</td>\n",
       "      <td>NaN</td>\n",
       "      <td>NaN</td>\n",
       "      <td>NaN</td>\n",
       "      <td>NaN</td>\n",
       "      <td>NaN</td>\n",
       "      <td>NaN</td>\n",
       "    </tr>\n",
       "    <tr>\n",
       "      <th>1998</th>\n",
       "      <td>5935213248</td>\n",
       "      <td>NaN</td>\n",
       "      <td>5975303657</td>\n",
       "      <td>5.921366e+09</td>\n",
       "      <td>NaN</td>\n",
       "      <td>NaN</td>\n",
       "      <td>NaN</td>\n",
       "      <td>NaN</td>\n",
       "      <td>NaN</td>\n",
       "      <td>NaN</td>\n",
       "      <td>NaN</td>\n",
       "    </tr>\n",
       "    <tr>\n",
       "      <th>1999</th>\n",
       "      <td>6012074922</td>\n",
       "      <td>NaN</td>\n",
       "      <td>6051478010</td>\n",
       "      <td>5.999622e+09</td>\n",
       "      <td>NaN</td>\n",
       "      <td>NaN</td>\n",
       "      <td>NaN</td>\n",
       "      <td>NaN</td>\n",
       "      <td>NaN</td>\n",
       "      <td>NaN</td>\n",
       "      <td>NaN</td>\n",
       "    </tr>\n",
       "    <tr>\n",
       "      <th>2000</th>\n",
       "      <td>6088571383</td>\n",
       "      <td>6.067000e+09</td>\n",
       "      <td>6127700428</td>\n",
       "      <td>6.076558e+09</td>\n",
       "      <td>6.145000e+09</td>\n",
       "      <td>NaN</td>\n",
       "      <td>NaN</td>\n",
       "      <td>5.750000e+09</td>\n",
       "      <td>NaN</td>\n",
       "      <td>NaN</td>\n",
       "      <td>NaN</td>\n",
       "    </tr>\n",
       "    <tr>\n",
       "      <th>2001</th>\n",
       "      <td>6165219247</td>\n",
       "      <td>6.137000e+09</td>\n",
       "      <td>6204147026</td>\n",
       "      <td>6.154791e+09</td>\n",
       "      <td>NaN</td>\n",
       "      <td>NaN</td>\n",
       "      <td>NaN</td>\n",
       "      <td>NaN</td>\n",
       "      <td>NaN</td>\n",
       "      <td>NaN</td>\n",
       "      <td>NaN</td>\n",
       "    </tr>\n",
       "    <tr>\n",
       "      <th>2002</th>\n",
       "      <td>6242016348</td>\n",
       "      <td>6.215000e+09</td>\n",
       "      <td>6280853817</td>\n",
       "      <td>6.231704e+09</td>\n",
       "      <td>NaN</td>\n",
       "      <td>NaN</td>\n",
       "      <td>NaN</td>\n",
       "      <td>NaN</td>\n",
       "      <td>NaN</td>\n",
       "      <td>NaN</td>\n",
       "      <td>NaN</td>\n",
       "    </tr>\n",
       "    <tr>\n",
       "      <th>2003</th>\n",
       "      <td>6318590956</td>\n",
       "      <td>6.314000e+09</td>\n",
       "      <td>6357991749</td>\n",
       "      <td>6.308364e+09</td>\n",
       "      <td>NaN</td>\n",
       "      <td>NaN</td>\n",
       "      <td>NaN</td>\n",
       "      <td>NaN</td>\n",
       "      <td>NaN</td>\n",
       "      <td>NaN</td>\n",
       "      <td>NaN</td>\n",
       "    </tr>\n",
       "    <tr>\n",
       "      <th>2004</th>\n",
       "      <td>6395699509</td>\n",
       "      <td>6.396000e+09</td>\n",
       "      <td>6435705595</td>\n",
       "      <td>6.374056e+09</td>\n",
       "      <td>NaN</td>\n",
       "      <td>NaN</td>\n",
       "      <td>NaN</td>\n",
       "      <td>NaN</td>\n",
       "      <td>NaN</td>\n",
       "      <td>NaN</td>\n",
       "      <td>NaN</td>\n",
       "    </tr>\n",
       "    <tr>\n",
       "      <th>2005</th>\n",
       "      <td>6473044732</td>\n",
       "      <td>6.477000e+09</td>\n",
       "      <td>6514094605</td>\n",
       "      <td>6.462987e+09</td>\n",
       "      <td>NaN</td>\n",
       "      <td>NaN</td>\n",
       "      <td>NaN</td>\n",
       "      <td>NaN</td>\n",
       "      <td>NaN</td>\n",
       "      <td>NaN</td>\n",
       "      <td>NaN</td>\n",
       "    </tr>\n",
       "    <tr>\n",
       "      <th>2006</th>\n",
       "      <td>6551263534</td>\n",
       "      <td>6.555000e+09</td>\n",
       "      <td>6593227977</td>\n",
       "      <td>6.540214e+09</td>\n",
       "      <td>NaN</td>\n",
       "      <td>NaN</td>\n",
       "      <td>NaN</td>\n",
       "      <td>NaN</td>\n",
       "      <td>NaN</td>\n",
       "      <td>NaN</td>\n",
       "      <td>NaN</td>\n",
       "    </tr>\n",
       "    <tr>\n",
       "      <th>2007</th>\n",
       "      <td>6629913759</td>\n",
       "      <td>6.625000e+09</td>\n",
       "      <td>6673105937</td>\n",
       "      <td>6.616689e+09</td>\n",
       "      <td>NaN</td>\n",
       "      <td>NaN</td>\n",
       "      <td>NaN</td>\n",
       "      <td>NaN</td>\n",
       "      <td>NaN</td>\n",
       "      <td>NaN</td>\n",
       "      <td>NaN</td>\n",
       "    </tr>\n",
       "    <tr>\n",
       "      <th>2008</th>\n",
       "      <td>6709049780</td>\n",
       "      <td>6.705000e+09</td>\n",
       "      <td>6753649228</td>\n",
       "      <td>6.694832e+09</td>\n",
       "      <td>NaN</td>\n",
       "      <td>NaN</td>\n",
       "      <td>NaN</td>\n",
       "      <td>NaN</td>\n",
       "      <td>NaN</td>\n",
       "      <td>NaN</td>\n",
       "      <td>NaN</td>\n",
       "    </tr>\n",
       "    <tr>\n",
       "      <th>2009</th>\n",
       "      <td>6788214394</td>\n",
       "      <td>6.809972e+09</td>\n",
       "      <td>6834721933</td>\n",
       "      <td>6.764086e+09</td>\n",
       "      <td>NaN</td>\n",
       "      <td>NaN</td>\n",
       "      <td>NaN</td>\n",
       "      <td>NaN</td>\n",
       "      <td>NaN</td>\n",
       "      <td>NaN</td>\n",
       "      <td>NaN</td>\n",
       "    </tr>\n",
       "    <tr>\n",
       "      <th>2010</th>\n",
       "      <td>6866332358</td>\n",
       "      <td>6.892319e+09</td>\n",
       "      <td>6916183482</td>\n",
       "      <td>NaN</td>\n",
       "      <td>NaN</td>\n",
       "      <td>NaN</td>\n",
       "      <td>NaN</td>\n",
       "      <td>NaN</td>\n",
       "      <td>NaN</td>\n",
       "      <td>NaN</td>\n",
       "      <td>NaN</td>\n",
       "    </tr>\n",
       "    <tr>\n",
       "      <th>2011</th>\n",
       "      <td>6944055583</td>\n",
       "      <td>6.986951e+09</td>\n",
       "      <td>6997998760</td>\n",
       "      <td>NaN</td>\n",
       "      <td>NaN</td>\n",
       "      <td>NaN</td>\n",
       "      <td>NaN</td>\n",
       "      <td>NaN</td>\n",
       "      <td>NaN</td>\n",
       "      <td>NaN</td>\n",
       "      <td>NaN</td>\n",
       "    </tr>\n",
       "    <tr>\n",
       "      <th>2012</th>\n",
       "      <td>7022349283</td>\n",
       "      <td>7.057075e+09</td>\n",
       "      <td>7080072417</td>\n",
       "      <td>NaN</td>\n",
       "      <td>NaN</td>\n",
       "      <td>NaN</td>\n",
       "      <td>NaN</td>\n",
       "      <td>NaN</td>\n",
       "      <td>NaN</td>\n",
       "      <td>NaN</td>\n",
       "      <td>NaN</td>\n",
       "    </tr>\n",
       "    <tr>\n",
       "      <th>2013</th>\n",
       "      <td>7101027895</td>\n",
       "      <td>7.136796e+09</td>\n",
       "      <td>7162119434</td>\n",
       "      <td>NaN</td>\n",
       "      <td>NaN</td>\n",
       "      <td>NaN</td>\n",
       "      <td>NaN</td>\n",
       "      <td>NaN</td>\n",
       "      <td>NaN</td>\n",
       "      <td>NaN</td>\n",
       "      <td>NaN</td>\n",
       "    </tr>\n",
       "    <tr>\n",
       "      <th>2014</th>\n",
       "      <td>7178722893</td>\n",
       "      <td>7.238184e+09</td>\n",
       "      <td>7243784000</td>\n",
       "      <td>NaN</td>\n",
       "      <td>NaN</td>\n",
       "      <td>NaN</td>\n",
       "      <td>NaN</td>\n",
       "      <td>NaN</td>\n",
       "      <td>NaN</td>\n",
       "      <td>NaN</td>\n",
       "      <td>NaN</td>\n",
       "    </tr>\n",
       "    <tr>\n",
       "      <th>2015</th>\n",
       "      <td>7256490011</td>\n",
       "      <td>7.336435e+09</td>\n",
       "      <td>7349472000</td>\n",
       "      <td>NaN</td>\n",
       "      <td>NaN</td>\n",
       "      <td>NaN</td>\n",
       "      <td>NaN</td>\n",
       "      <td>NaN</td>\n",
       "      <td>NaN</td>\n",
       "      <td>NaN</td>\n",
       "      <td>NaN</td>\n",
       "    </tr>\n",
       "  </tbody>\n",
       "</table>\n",
       "<p>66 rows × 11 columns</p>\n",
       "</div>"
      ],
      "text/plain": [
       "          census           prb          un      maddison          hyde  \\\n",
       "Year                                                                     \n",
       "1950  2557628654  2.516000e+09  2525149000  2.544000e+09  2.527960e+09   \n",
       "1951  2594939877           NaN  2572850917  2.571663e+09           NaN   \n",
       "1952  2636772306           NaN  2619292068  2.617949e+09           NaN   \n",
       "1953  2682053389           NaN  2665865392  2.665959e+09           NaN   \n",
       "1954  2730228104           NaN  2713172027  2.716927e+09           NaN   \n",
       "1955  2782098943           NaN  2761650981  2.769074e+09           NaN   \n",
       "1956  2835299673           NaN  2811572031  2.822502e+09           NaN   \n",
       "1957  2891349717           NaN  2863042795  2.879934e+09           NaN   \n",
       "1958  2948137248           NaN  2916030167  2.939254e+09           NaN   \n",
       "1959  3000716593           NaN  2970395814  2.995909e+09           NaN   \n",
       "1960  3043001508           NaN  3026002942  3.041507e+09  3.042000e+09   \n",
       "1961  3083966929           NaN  3082830266  3.082161e+09           NaN   \n",
       "1962  3140093217           NaN  3141071531  3.135787e+09           NaN   \n",
       "1963  3209827882           NaN  3201178277  3.201354e+09           NaN   \n",
       "1964  3281201306           NaN  3263738832  3.266477e+09           NaN   \n",
       "1965  3350425793           NaN  3329122479  3.333138e+09           NaN   \n",
       "1966  3420677923           NaN  3397475247  3.402224e+09           NaN   \n",
       "1967  3490333715           NaN  3468521724  3.471464e+09           NaN   \n",
       "1968  3562313822           NaN  3541674891  3.543086e+09           NaN   \n",
       "1969  3637159050           NaN  3616108749  3.615743e+09           NaN   \n",
       "1970  3712697742           NaN  3691172616  3.691157e+09  3.710000e+09   \n",
       "1971  3790326948           NaN  3766754345  3.769818e+09           NaN   \n",
       "1972  3866568653           NaN  3842873611  3.846499e+09           NaN   \n",
       "1973  3942096442           NaN  3919182332  3.922793e+09  3.923000e+09   \n",
       "1974  4016608813           NaN  3995304922  3.997677e+09           NaN   \n",
       "1975  4089083233           NaN  4071020434  4.070671e+09           NaN   \n",
       "1976  4160185010           NaN  4146135850  4.141445e+09           NaN   \n",
       "1977  4232084578           NaN  4220816737  4.213539e+09           NaN   \n",
       "1978  4304105753           NaN  4295664825  4.286317e+09           NaN   \n",
       "1979  4379013942           NaN  4371527871  4.363144e+09           NaN   \n",
       "...          ...           ...         ...           ...           ...   \n",
       "1986  4940571232           NaN  4953376710  4.920968e+09           NaN   \n",
       "1987  5027200492           NaN  5045315871  5.006672e+09           NaN   \n",
       "1988  5114557167           NaN  5138214688  5.093306e+09           NaN   \n",
       "1989  5201440110           NaN  5230000000  5.180540e+09           NaN   \n",
       "1990  5288955934           NaN  5320816667  5.269029e+09  5.308000e+09   \n",
       "1991  5371585922           NaN  5408908724  5.351922e+09           NaN   \n",
       "1992  5456136278           NaN  5494899570  5.435722e+09           NaN   \n",
       "1993  5538268316           NaN  5578865109  5.518127e+09           NaN   \n",
       "1994  5618682132           NaN  5661086346  5.599396e+09           NaN   \n",
       "1995  5699202985  5.760000e+09  5741822412  5.681575e+09           NaN   \n",
       "1996  5779440593           NaN  5821016750  5.762212e+09           NaN   \n",
       "1997  5857972543  5.840000e+09  5898688337  5.842122e+09           NaN   \n",
       "1998  5935213248           NaN  5975303657  5.921366e+09           NaN   \n",
       "1999  6012074922           NaN  6051478010  5.999622e+09           NaN   \n",
       "2000  6088571383  6.067000e+09  6127700428  6.076558e+09  6.145000e+09   \n",
       "2001  6165219247  6.137000e+09  6204147026  6.154791e+09           NaN   \n",
       "2002  6242016348  6.215000e+09  6280853817  6.231704e+09           NaN   \n",
       "2003  6318590956  6.314000e+09  6357991749  6.308364e+09           NaN   \n",
       "2004  6395699509  6.396000e+09  6435705595  6.374056e+09           NaN   \n",
       "2005  6473044732  6.477000e+09  6514094605  6.462987e+09           NaN   \n",
       "2006  6551263534  6.555000e+09  6593227977  6.540214e+09           NaN   \n",
       "2007  6629913759  6.625000e+09  6673105937  6.616689e+09           NaN   \n",
       "2008  6709049780  6.705000e+09  6753649228  6.694832e+09           NaN   \n",
       "2009  6788214394  6.809972e+09  6834721933  6.764086e+09           NaN   \n",
       "2010  6866332358  6.892319e+09  6916183482           NaN           NaN   \n",
       "2011  6944055583  6.986951e+09  6997998760           NaN           NaN   \n",
       "2012  7022349283  7.057075e+09  7080072417           NaN           NaN   \n",
       "2013  7101027895  7.136796e+09  7162119434           NaN           NaN   \n",
       "2014  7178722893  7.238184e+09  7243784000           NaN           NaN   \n",
       "2015  7256490011  7.336435e+09  7349472000           NaN           NaN   \n",
       "\n",
       "            tanton       biraben            mj    thomlinson  \\\n",
       "Year                                                           \n",
       "1950  2.400000e+09  2.527000e+09  2.500000e+09  2.400000e+09   \n",
       "1951           NaN           NaN           NaN           NaN   \n",
       "1952           NaN           NaN           NaN           NaN   \n",
       "1953           NaN           NaN           NaN           NaN   \n",
       "1954           NaN           NaN           NaN           NaN   \n",
       "1955           NaN           NaN           NaN           NaN   \n",
       "1956           NaN           NaN           NaN           NaN   \n",
       "1957           NaN           NaN           NaN           NaN   \n",
       "1958           NaN           NaN           NaN           NaN   \n",
       "1959           NaN           NaN           NaN           NaN   \n",
       "1960           NaN           NaN           NaN           NaN   \n",
       "1961           NaN           NaN           NaN           NaN   \n",
       "1962           NaN           NaN           NaN           NaN   \n",
       "1963           NaN           NaN           NaN           NaN   \n",
       "1964           NaN           NaN           NaN           NaN   \n",
       "1965           NaN           NaN           NaN           NaN   \n",
       "1966           NaN           NaN           NaN           NaN   \n",
       "1967           NaN           NaN           NaN           NaN   \n",
       "1968           NaN           NaN           NaN           NaN   \n",
       "1969           NaN           NaN           NaN           NaN   \n",
       "1970           NaN  3.637000e+09           NaN  3.600000e+09   \n",
       "1971           NaN           NaN           NaN           NaN   \n",
       "1972           NaN           NaN           NaN           NaN   \n",
       "1973           NaN           NaN           NaN           NaN   \n",
       "1974           NaN           NaN           NaN           NaN   \n",
       "1975           NaN           NaN  3.900000e+09  4.000000e+09   \n",
       "1976           NaN           NaN           NaN           NaN   \n",
       "1977           NaN           NaN           NaN           NaN   \n",
       "1978           NaN           NaN           NaN           NaN   \n",
       "1979           NaN           NaN           NaN           NaN   \n",
       "...            ...           ...           ...           ...   \n",
       "1986           NaN           NaN           NaN           NaN   \n",
       "1987           NaN           NaN           NaN           NaN   \n",
       "1988           NaN           NaN           NaN           NaN   \n",
       "1989           NaN           NaN           NaN           NaN   \n",
       "1990           NaN           NaN           NaN           NaN   \n",
       "1991           NaN           NaN           NaN           NaN   \n",
       "1992           NaN           NaN           NaN           NaN   \n",
       "1993           NaN           NaN           NaN           NaN   \n",
       "1994           NaN           NaN           NaN           NaN   \n",
       "1995           NaN           NaN           NaN           NaN   \n",
       "1996           NaN           NaN           NaN           NaN   \n",
       "1997           NaN           NaN           NaN           NaN   \n",
       "1998           NaN           NaN           NaN           NaN   \n",
       "1999           NaN           NaN           NaN           NaN   \n",
       "2000           NaN           NaN  5.750000e+09           NaN   \n",
       "2001           NaN           NaN           NaN           NaN   \n",
       "2002           NaN           NaN           NaN           NaN   \n",
       "2003           NaN           NaN           NaN           NaN   \n",
       "2004           NaN           NaN           NaN           NaN   \n",
       "2005           NaN           NaN           NaN           NaN   \n",
       "2006           NaN           NaN           NaN           NaN   \n",
       "2007           NaN           NaN           NaN           NaN   \n",
       "2008           NaN           NaN           NaN           NaN   \n",
       "2009           NaN           NaN           NaN           NaN   \n",
       "2010           NaN           NaN           NaN           NaN   \n",
       "2011           NaN           NaN           NaN           NaN   \n",
       "2012           NaN           NaN           NaN           NaN   \n",
       "2013           NaN           NaN           NaN           NaN   \n",
       "2014           NaN           NaN           NaN           NaN   \n",
       "2015           NaN           NaN           NaN           NaN   \n",
       "\n",
       "                            durand         clark  \n",
       "Year                                              \n",
       "1950                           NaN  2.486000e+09  \n",
       "1951                           NaN           NaN  \n",
       "1952                           NaN           NaN  \n",
       "1953                           NaN           NaN  \n",
       "1954                           NaN           NaN  \n",
       "1955                           NaN           NaN  \n",
       "1956                           NaN           NaN  \n",
       "1957                           NaN           NaN  \n",
       "1958                           NaN           NaN  \n",
       "1959                           NaN           NaN  \n",
       "1960                           NaN           NaN  \n",
       "1961                           NaN           NaN  \n",
       "1962                           NaN  3.036000e+09  \n",
       "1963                           NaN           NaN  \n",
       "1964                           NaN           NaN  \n",
       "1965                           NaN           NaN  \n",
       "1966                           NaN  3.288000e+09  \n",
       "1967                           NaN           NaN  \n",
       "1968                           NaN           NaN  \n",
       "1969                           NaN           NaN  \n",
       "1970  3,600,000,000– 3,700,000,000  3.632000e+09  \n",
       "1971                           NaN           NaN  \n",
       "1972                           NaN           NaN  \n",
       "1973                           NaN  3.860000e+09  \n",
       "1974                           NaN           NaN  \n",
       "1975                           NaN           NaN  \n",
       "1976                           NaN           NaN  \n",
       "1977                           NaN           NaN  \n",
       "1978                           NaN           NaN  \n",
       "1979                           NaN           NaN  \n",
       "...                            ...           ...  \n",
       "1986                           NaN           NaN  \n",
       "1987                           NaN           NaN  \n",
       "1988                           NaN           NaN  \n",
       "1989                           NaN           NaN  \n",
       "1990                           NaN           NaN  \n",
       "1991                           NaN           NaN  \n",
       "1992                           NaN           NaN  \n",
       "1993                           NaN           NaN  \n",
       "1994                           NaN           NaN  \n",
       "1995                           NaN           NaN  \n",
       "1996                           NaN           NaN  \n",
       "1997                           NaN           NaN  \n",
       "1998                           NaN           NaN  \n",
       "1999                           NaN           NaN  \n",
       "2000                           NaN           NaN  \n",
       "2001                           NaN           NaN  \n",
       "2002                           NaN           NaN  \n",
       "2003                           NaN           NaN  \n",
       "2004                           NaN           NaN  \n",
       "2005                           NaN           NaN  \n",
       "2006                           NaN           NaN  \n",
       "2007                           NaN           NaN  \n",
       "2008                           NaN           NaN  \n",
       "2009                           NaN           NaN  \n",
       "2010                           NaN           NaN  \n",
       "2011                           NaN           NaN  \n",
       "2012                           NaN           NaN  \n",
       "2013                           NaN           NaN  \n",
       "2014                           NaN           NaN  \n",
       "2015                           NaN           NaN  \n",
       "\n",
       "[66 rows x 11 columns]"
      ]
     },
     "execution_count": 17,
     "metadata": {},
     "output_type": "execute_result"
    }
   ],
   "source": [
    "table2"
   ]
  },
  {
   "cell_type": "markdown",
   "metadata": {},
   "source": [
    "We can use dot notatio to select a column from a DataFrame.  The result is a Series."
   ]
  },
  {
   "cell_type": "code",
   "execution_count": 18,
   "metadata": {},
   "outputs": [
    {
     "data": {
      "text/plain": [
       "Year\n",
       "1950    2557628654\n",
       "1951    2594939877\n",
       "1952    2636772306\n",
       "1953    2682053389\n",
       "1954    2730228104\n",
       "1955    2782098943\n",
       "1956    2835299673\n",
       "1957    2891349717\n",
       "1958    2948137248\n",
       "1959    3000716593\n",
       "1960    3043001508\n",
       "1961    3083966929\n",
       "1962    3140093217\n",
       "1963    3209827882\n",
       "1964    3281201306\n",
       "1965    3350425793\n",
       "1966    3420677923\n",
       "1967    3490333715\n",
       "1968    3562313822\n",
       "1969    3637159050\n",
       "1970    3712697742\n",
       "1971    3790326948\n",
       "1972    3866568653\n",
       "1973    3942096442\n",
       "1974    4016608813\n",
       "1975    4089083233\n",
       "1976    4160185010\n",
       "1977    4232084578\n",
       "1978    4304105753\n",
       "1979    4379013942\n",
       "           ...    \n",
       "1986    4940571232\n",
       "1987    5027200492\n",
       "1988    5114557167\n",
       "1989    5201440110\n",
       "1990    5288955934\n",
       "1991    5371585922\n",
       "1992    5456136278\n",
       "1993    5538268316\n",
       "1994    5618682132\n",
       "1995    5699202985\n",
       "1996    5779440593\n",
       "1997    5857972543\n",
       "1998    5935213248\n",
       "1999    6012074922\n",
       "2000    6088571383\n",
       "2001    6165219247\n",
       "2002    6242016348\n",
       "2003    6318590956\n",
       "2004    6395699509\n",
       "2005    6473044732\n",
       "2006    6551263534\n",
       "2007    6629913759\n",
       "2008    6709049780\n",
       "2009    6788214394\n",
       "2010    6866332358\n",
       "2011    6944055583\n",
       "2012    7022349283\n",
       "2013    7101027895\n",
       "2014    7178722893\n",
       "2015    7256490011\n",
       "Name: census, Length: 66, dtype: int64"
      ]
     },
     "execution_count": 18,
     "metadata": {},
     "output_type": "execute_result"
    }
   ],
   "source": [
    "census = table2.census\n",
    "census"
   ]
  },
  {
   "cell_type": "markdown",
   "metadata": {},
   "source": [
    "A Series object has two parts, `values` and `index`.\n",
    "\n",
    "The `values` part is an array."
   ]
  },
  {
   "cell_type": "code",
   "execution_count": 19,
   "metadata": {},
   "outputs": [
    {
     "data": {
      "text/plain": [
       "array([2557628654, 2594939877, 2636772306, 2682053389, 2730228104,\n",
       "       2782098943, 2835299673, 2891349717, 2948137248, 3000716593,\n",
       "       3043001508, 3083966929, 3140093217, 3209827882, 3281201306,\n",
       "       3350425793, 3420677923, 3490333715, 3562313822, 3637159050,\n",
       "       3712697742, 3790326948, 3866568653, 3942096442, 4016608813,\n",
       "       4089083233, 4160185010, 4232084578, 4304105753, 4379013942,\n",
       "       4451362735, 4534410125, 4614566561, 4695736743, 4774569391,\n",
       "       4856462699, 4940571232, 5027200492, 5114557167, 5201440110,\n",
       "       5288955934, 5371585922, 5456136278, 5538268316, 5618682132,\n",
       "       5699202985, 5779440593, 5857972543, 5935213248, 6012074922,\n",
       "       6088571383, 6165219247, 6242016348, 6318590956, 6395699509,\n",
       "       6473044732, 6551263534, 6629913759, 6709049780, 6788214394,\n",
       "       6866332358, 6944055583, 7022349283, 7101027895, 7178722893,\n",
       "       7256490011], dtype=int64)"
      ]
     },
     "execution_count": 19,
     "metadata": {},
     "output_type": "execute_result"
    }
   ],
   "source": [
    "census.values"
   ]
  },
  {
   "cell_type": "markdown",
   "metadata": {},
   "source": [
    "The `index` part is yet another kind of object, an `Int64Index`."
   ]
  },
  {
   "cell_type": "code",
   "execution_count": 20,
   "metadata": {},
   "outputs": [
    {
     "data": {
      "text/plain": [
       "Int64Index([1950, 1951, 1952, 1953, 1954, 1955, 1956, 1957, 1958, 1959, 1960,\n",
       "            1961, 1962, 1963, 1964, 1965, 1966, 1967, 1968, 1969, 1970, 1971,\n",
       "            1972, 1973, 1974, 1975, 1976, 1977, 1978, 1979, 1980, 1981, 1982,\n",
       "            1983, 1984, 1985, 1986, 1987, 1988, 1989, 1990, 1991, 1992, 1993,\n",
       "            1994, 1995, 1996, 1997, 1998, 1999, 2000, 2001, 2002, 2003, 2004,\n",
       "            2005, 2006, 2007, 2008, 2009, 2010, 2011, 2012, 2013, 2014, 2015],\n",
       "           dtype='int64', name='Year')"
      ]
     },
     "execution_count": 20,
     "metadata": {},
     "output_type": "execute_result"
    }
   ],
   "source": [
    "census.index"
   ]
  },
  {
   "cell_type": "markdown",
   "metadata": {},
   "source": [
    "If you ever wonder what kind of object a variable refers to, you can use the `type` function.\n",
    "\n",
    "The result indicates what type the object is, and the module where that type is defined.\n",
    "\n",
    "DataFrame, Series, and Int64Index are defined by Pandas.\n",
    "\n",
    "array is defined by NumPy."
   ]
  },
  {
   "cell_type": "code",
   "execution_count": 21,
   "metadata": {},
   "outputs": [
    {
     "data": {
      "text/plain": [
       "pandas.core.frame.DataFrame"
      ]
     },
     "execution_count": 21,
     "metadata": {},
     "output_type": "execute_result"
    }
   ],
   "source": [
    "type(table2)"
   ]
  },
  {
   "cell_type": "code",
   "execution_count": 22,
   "metadata": {},
   "outputs": [
    {
     "data": {
      "text/plain": [
       "pandas.core.series.Series"
      ]
     },
     "execution_count": 22,
     "metadata": {},
     "output_type": "execute_result"
    }
   ],
   "source": [
    "type(census)"
   ]
  },
  {
   "cell_type": "code",
   "execution_count": 23,
   "metadata": {},
   "outputs": [
    {
     "data": {
      "text/plain": [
       "pandas.core.indexes.numeric.Int64Index"
      ]
     },
     "execution_count": 23,
     "metadata": {},
     "output_type": "execute_result"
    }
   ],
   "source": [
    "type(census.index)"
   ]
  },
  {
   "cell_type": "code",
   "execution_count": 24,
   "metadata": {},
   "outputs": [
    {
     "data": {
      "text/plain": [
       "numpy.ndarray"
      ]
     },
     "execution_count": 24,
     "metadata": {},
     "output_type": "execute_result"
    }
   ],
   "source": [
    "type(census.values)"
   ]
  },
  {
   "cell_type": "markdown",
   "metadata": {},
   "source": [
    "This function plots the estimates generated by the US Censis and UN DESA, and labels the axes.\n",
    "\n",
    "`1e9` is scientific notation for $1 \\cdot 10^9$ or 1 billion."
   ]
  },
  {
   "cell_type": "code",
   "execution_count": 25,
   "metadata": {
    "collapsed": true
   },
   "outputs": [],
   "source": [
    "def plot_estimates(table):\n",
    "    \"\"\"Plot world population estimates.\n",
    "    \n",
    "    table: DataFrame with columns 'un' and 'census'\n",
    "    \"\"\"\n",
    "    un = table.un / 1e9\n",
    "    census = table.census / 1e9\n",
    "    \n",
    "    plot(census, ':', color='darkblue', label='US Census')\n",
    "    plot(un, '--', color='green', label='UN DESA')\n",
    "    \n",
    "    decorate(xlabel='Year',\n",
    "             ylabel='World population (billion)')"
   ]
  },
  {
   "cell_type": "markdown",
   "metadata": {},
   "source": [
    "Now we can plot the estimates."
   ]
  },
  {
   "cell_type": "code",
   "execution_count": 26,
   "metadata": {
    "scrolled": false
   },
   "outputs": [
    {
     "name": "stdout",
     "output_type": "stream",
     "text": [
      "Saving figure to file chap03-fig01.pdf\n"
     ]
    },
    {
     "data": {
      "image/png": "[encoded data removed]",
      "text/plain": [
       "<matplotlib.figure.Figure at 0x25828f5bcc0>"
      ]
     },
     "metadata": {},
     "output_type": "display_data"
    }
   ],
   "source": [
    "newfig()\n",
    "plot_estimates(table2)\n",
    "savefig('chap03-fig01.pdf')"
   ]
  },
  {
   "cell_type": "markdown",
   "metadata": {},
   "source": [
    "From here on, we will work in units of billions."
   ]
  },
  {
   "cell_type": "code",
   "execution_count": 27,
   "metadata": {
    "collapsed": true
   },
   "outputs": [],
   "source": [
    "un = table2.un / 1e9"
   ]
  },
  {
   "cell_type": "code",
   "execution_count": 28,
   "metadata": {
    "collapsed": true
   },
   "outputs": [],
   "source": [
    "census = table2.census / 1e9"
   ]
  },
  {
   "cell_type": "markdown",
   "metadata": {},
   "source": [
    "This expression computes the elementwise differences between the series, then divides through by the UN value to produce relative errors, then finds the largest element.\n",
    "\n",
    "So the largest relative error between the estimates is about 1.3%."
   ]
  },
  {
   "cell_type": "code",
   "execution_count": 29,
   "metadata": {},
   "outputs": [
    {
     "data": {
      "text/plain": [
       "1.2862470293832287"
      ]
     },
     "execution_count": 29,
     "metadata": {},
     "output_type": "execute_result"
    }
   ],
   "source": [
    "max(abs(census - un) / un) * 100"
   ]
  },
  {
   "cell_type": "markdown",
   "metadata": {},
   "source": [
    "**Exercise:** Break down that expression into smaller steps and display the intermediate results, to make sure you understand how it works.\n",
    "\n",
    "Where in the series is the largest relative error between the two estimates, near the beginning or the end?\n",
    "\n",
    "When I computed relative errors, I used `un` as the denominator.  But that was an arbitraty choice.  What happens if we use `census` instead?  How much difference does it make."
   ]
  },
  {
   "cell_type": "code",
   "execution_count": 30,
   "metadata": {
    "scrolled": true
   },
   "outputs": [
    {
     "name": "stdout",
     "output_type": "stream",
     "text": [
      "Year\n",
      "1950    0.032480\n",
      "1951    0.022089\n",
      "1952    0.017480\n",
      "1953    0.016188\n",
      "1954    0.017056\n",
      "1955    0.020448\n",
      "1956    0.023728\n",
      "1957    0.028307\n",
      "1958    0.032107\n",
      "1959    0.030321\n",
      "1960    0.016999\n",
      "1961    0.001137\n",
      "1962    0.000978\n",
      "1963    0.008650\n",
      "1964    0.017462\n",
      "1965    0.021303\n",
      "1966    0.023203\n",
      "1967    0.021812\n",
      "1968    0.020639\n",
      "1969    0.021050\n",
      "1970    0.021525\n",
      "1971    0.023573\n",
      "1972    0.023695\n",
      "1973    0.022914\n",
      "1974    0.021304\n",
      "1975    0.018063\n",
      "1976    0.014049\n",
      "1977    0.011268\n",
      "1978    0.008441\n",
      "1979    0.007486\n",
      "          ...   \n",
      "1986    0.012805\n",
      "1987    0.018115\n",
      "1988    0.023658\n",
      "1989    0.028560\n",
      "1990    0.031861\n",
      "1991    0.037323\n",
      "1992    0.038763\n",
      "1993    0.040597\n",
      "1994    0.042404\n",
      "1995    0.042619\n",
      "1996    0.041576\n",
      "1997    0.040716\n",
      "1998    0.040090\n",
      "1999    0.039403\n",
      "2000    0.039129\n",
      "2001    0.038928\n",
      "2002    0.038837\n",
      "2003    0.039401\n",
      "2004    0.040006\n",
      "2005    0.041050\n",
      "2006    0.041964\n",
      "2007    0.043192\n",
      "2008    0.044599\n",
      "2009    0.046508\n",
      "2010    0.049851\n",
      "2011    0.053943\n",
      "2012    0.057723\n",
      "2013    0.061092\n",
      "2014    0.065061\n",
      "2015    0.092982\n",
      "Length: 66, dtype: float64\n"
     ]
    }
   ],
   "source": [
    "# Solution goes here\n",
    "error = abs(census - un)\n",
    "print(error)"
   ]
  },
  {
   "cell_type": "code",
   "execution_count": 31,
   "metadata": {
    "scrolled": true
   },
   "outputs": [
    {
     "name": "stdout",
     "output_type": "stream",
     "text": [
      "Year\n",
      "1950    0.012862\n",
      "1951    0.008585\n",
      "1952    0.006674\n",
      "1953    0.006072\n",
      "1954    0.006286\n",
      "1955    0.007404\n",
      "1956    0.008439\n",
      "1957    0.009887\n",
      "1958    0.011011\n",
      "1959    0.010208\n",
      "1960    0.005617\n",
      "1961    0.000369\n",
      "1962    0.000311\n",
      "1963    0.002702\n",
      "1964    0.005350\n",
      "1965    0.006399\n",
      "1966    0.006829\n",
      "1967    0.006289\n",
      "1968    0.005827\n",
      "1969    0.005821\n",
      "1970    0.005832\n",
      "1971    0.006258\n",
      "1972    0.006166\n",
      "1973    0.005847\n",
      "1974    0.005332\n",
      "1975    0.004437\n",
      "1976    0.003388\n",
      "1977    0.002670\n",
      "1978    0.001965\n",
      "1979    0.001712\n",
      "          ...   \n",
      "1986    0.002585\n",
      "1987    0.003591\n",
      "1988    0.004604\n",
      "1989    0.005461\n",
      "1990    0.005988\n",
      "1991    0.006900\n",
      "1992    0.007054\n",
      "1993    0.007277\n",
      "1994    0.007490\n",
      "1995    0.007423\n",
      "1996    0.007142\n",
      "1997    0.006903\n",
      "1998    0.006709\n",
      "1999    0.006511\n",
      "2000    0.006386\n",
      "2001    0.006274\n",
      "2002    0.006183\n",
      "2003    0.006197\n",
      "2004    0.006216\n",
      "2005    0.006302\n",
      "2006    0.006365\n",
      "2007    0.006473\n",
      "2008    0.006604\n",
      "2009    0.006805\n",
      "2010    0.007208\n",
      "2011    0.007708\n",
      "2012    0.008153\n",
      "2013    0.008530\n",
      "2014    0.008982\n",
      "2015    0.012652\n",
      "Length: 66, dtype: float64\n"
     ]
    }
   ],
   "source": [
    "# Solution goes here\n",
    "error = error / un\n",
    "print(error)"
   ]
  },
  {
   "cell_type": "code",
   "execution_count": 32,
   "metadata": {
    "scrolled": true
   },
   "outputs": [
    {
     "name": "stdout",
     "output_type": "stream",
     "text": [
      "Year\n",
      "1950    1.286247\n",
      "1951    0.858540\n",
      "1952    0.667365\n",
      "1953    0.607232\n",
      "1954    0.628640\n",
      "1955    0.740425\n",
      "1956    0.843928\n",
      "1957    0.988701\n",
      "1958    1.101054\n",
      "1959    1.020766\n",
      "1960    0.561750\n",
      "1961    0.036871\n",
      "1962    0.031146\n",
      "1963    0.270201\n",
      "1964    0.535045\n",
      "1965    0.639908\n",
      "1966    0.682939\n",
      "1967    0.628856\n",
      "1968    0.582745\n",
      "1969    0.582126\n",
      "1970    0.583151\n",
      "1971    0.625807\n",
      "1972    0.616597\n",
      "1973    0.584666\n",
      "1974    0.533223\n",
      "1975    0.443692\n",
      "1976    0.338849\n",
      "1977    0.266959\n",
      "1978    0.196499\n",
      "1979    0.171246\n",
      "          ...   \n",
      "1986    0.258520\n",
      "1987    0.359053\n",
      "1988    0.460423\n",
      "1989    0.546078\n",
      "1990    0.598794\n",
      "1991    0.690025\n",
      "1992    0.705441\n",
      "1993    0.727689\n",
      "1994    0.749047\n",
      "1995    0.742263\n",
      "1996    0.714242\n",
      "1997    0.690252\n",
      "1998    0.670935\n",
      "1999    0.651132\n",
      "2000    0.638560\n",
      "2001    0.627448\n",
      "2002    0.618347\n",
      "2003    0.619705\n",
      "2004    0.621627\n",
      "2005    0.630170\n",
      "2006    0.636478\n",
      "2007    0.647257\n",
      "2008    0.660376\n",
      "2009    0.680460\n",
      "2010    0.720789\n",
      "2011    0.770837\n",
      "2012    0.815290\n",
      "2013    0.852981\n",
      "2014    0.898165\n",
      "2015    1.265152\n",
      "Length: 66, dtype: float64\n"
     ]
    }
   ],
   "source": [
    "# Solution goes here\n",
    "error = abs(error) * 100\n",
    "print(error)"
   ]
  },
  {
   "cell_type": "code",
   "execution_count": 33,
   "metadata": {},
   "outputs": [
    {
     "name": "stdout",
     "output_type": "stream",
     "text": [
      "1.28624702938\n"
     ]
    }
   ],
   "source": [
    "# Solution goes here\n",
    "error = max(error)\n",
    "print(error)"
   ]
  },
  {
   "cell_type": "markdown",
   "metadata": {},
   "source": [
    "### Constant growth"
   ]
  },
  {
   "cell_type": "markdown",
   "metadata": {},
   "source": [
    "We can select an element from a series using bracket notation and one of the elements from the index.  Here's the first element:"
   ]
  },
  {
   "cell_type": "code",
   "execution_count": 34,
   "metadata": {},
   "outputs": [
    {
     "data": {
      "text/plain": [
       "2.5576286540000002"
      ]
     },
     "execution_count": 34,
     "metadata": {},
     "output_type": "execute_result"
    }
   ],
   "source": [
    "census[1950]"
   ]
  },
  {
   "cell_type": "markdown",
   "metadata": {},
   "source": [
    "And the last element."
   ]
  },
  {
   "cell_type": "code",
   "execution_count": 35,
   "metadata": {},
   "outputs": [
    {
     "data": {
      "text/plain": [
       "7.2564900110000004"
      ]
     },
     "execution_count": 35,
     "metadata": {},
     "output_type": "execute_result"
    }
   ],
   "source": [
    "census[2015]"
   ]
  },
  {
   "cell_type": "markdown",
   "metadata": {},
   "source": [
    "But we can get the first and last years from the index itself:"
   ]
  },
  {
   "cell_type": "code",
   "execution_count": 36,
   "metadata": {},
   "outputs": [
    {
     "data": {
      "text/plain": [
       "(1950, 2015)"
      ]
     },
     "execution_count": 36,
     "metadata": {},
     "output_type": "execute_result"
    }
   ],
   "source": [
    "first_year = census.index[0]\n",
    "last_year = census.index[-1]\n",
    "first_year, last_year"
   ]
  },
  {
   "cell_type": "markdown",
   "metadata": {},
   "source": [
    "And use them to look up the first and last elements.\n",
    "\n",
    "Then we can compute the average annual growth in billions of people per year."
   ]
  },
  {
   "cell_type": "code",
   "execution_count": 37,
   "metadata": {},
   "outputs": [
    {
     "data": {
      "text/plain": [
       "0.07229017472307693"
      ]
     },
     "execution_count": 37,
     "metadata": {},
     "output_type": "execute_result"
    }
   ],
   "source": [
    "total_growth = census[last_year] - census[first_year]\n",
    "elapsed_time = last_year - first_year\n",
    "annual_growth = total_growth / elapsed_time\n",
    "annual_growth"
   ]
  },
  {
   "cell_type": "markdown",
   "metadata": {},
   "source": [
    "Now let's create a `TimeSeries` to contain values generated by a linear growth model."
   ]
  },
  {
   "cell_type": "code",
   "execution_count": 38,
   "metadata": {
    "collapsed": true
   },
   "outputs": [],
   "source": [
    "results = TimeSeries()"
   ]
  },
  {
   "cell_type": "markdown",
   "metadata": {},
   "source": [
    "Initially the Series is empty, but we can initialize it so the starting value, in 1950, is the 1950 population estimated by the US Census."
   ]
  },
  {
   "cell_type": "code",
   "execution_count": 39,
   "metadata": {},
   "outputs": [
    {
     "data": {
      "text/html": [
       "<div>\n",
       "<style>\n",
       "    .dataframe thead tr:only-child th {\n",
       "        text-align: right;\n",
       "    }\n",
       "\n",
       "    .dataframe thead th {\n",
       "        text-align: left;\n",
       "    }\n",
       "\n",
       "    .dataframe tbody tr th {\n",
       "        vertical-align: top;\n",
       "    }\n",
       "</style>\n",
       "<table border=\"1\" class=\"dataframe\">\n",
       "  <thead>\n",
       "    <tr style=\"text-align: right;\">\n",
       "      <th></th>\n",
       "      <th>value</th>\n",
       "    </tr>\n",
       "  </thead>\n",
       "  <tbody>\n",
       "    <tr>\n",
       "      <th>1950</th>\n",
       "      <td>2.557629</td>\n",
       "    </tr>\n",
       "  </tbody>\n",
       "</table>\n",
       "</div>"
      ],
      "text/plain": [
       "1950    2.557629\n",
       "dtype: float64"
      ]
     },
     "execution_count": 39,
     "metadata": {},
     "output_type": "execute_result"
    }
   ],
   "source": [
    "results[1950] = census[1950]\n",
    "results"
   ]
  },
  {
   "cell_type": "markdown",
   "metadata": {},
   "source": [
    "After that, the population in the model grows by a constant amount each year."
   ]
  },
  {
   "cell_type": "code",
   "execution_count": 40,
   "metadata": {
    "collapsed": true
   },
   "outputs": [],
   "source": [
    "for t in linrange(1950, 2015):\n",
    "    results[t+1] = results[t] + annual_growth"
   ]
  },
  {
   "cell_type": "markdown",
   "metadata": {},
   "source": [
    "Here's what the results looks like, compared to the actual data."
   ]
  },
  {
   "cell_type": "code",
   "execution_count": 41,
   "metadata": {},
   "outputs": [
    {
     "name": "stdout",
     "output_type": "stream",
     "text": [
      "Saving figure to file chap03-fig02.pdf\n"
     ]
    },
    {
     "data": {
      "image/png": "[encoded data removed]",
      "text/plain": [
       "<matplotlib.figure.Figure at 0x258291edba8>"
      ]
     },
     "metadata": {},
     "output_type": "display_data"
    }
   ],
   "source": [
    "newfig()\n",
    "plot_estimates(table2)\n",
    "plot(results, '--', color='gray', label='model')\n",
    "decorate(xlabel='Year', ylabel='World population (billion)')\n",
    "savefig('chap03-fig02.pdf')"
   ]
  },
  {
   "cell_type": "markdown",
   "metadata": {},
   "source": [
    "The model fits the data pretty well after 1990, but not so well before."
   ]
  },
  {
   "cell_type": "markdown",
   "metadata": {},
   "source": [
    "**Exercise:**  Try fitting the model using data from 1965 to the present, and see if that does a better job.\n",
    "\n",
    "Hint: Copy the code from above and make a few changes.\n",
    "\n",
    "Make sure your model starts in 1950, even though the estimated annual growth is based on later data.  You might have to shift the first value in the series up or down to match the data."
   ]
  },
  {
   "cell_type": "code",
   "execution_count": 42,
   "metadata": {},
   "outputs": [
    {
     "name": "stdout",
     "output_type": "stream",
     "text": [
      "0.0600932956615\n",
      "Saving figure to file chap03-fig02.pdf\n"
     ]
    },
    {
     "data": {
      "image/png": "[encoded data removed]",
      "text/plain": [
       "<matplotlib.figure.Figure at 0x25829545f28>"
      ]
     },
     "metadata": {},
     "output_type": "display_data"
    }
   ],
   "source": [
    "# Solution goes here\n",
    "\n",
    "total_growth = census[last_year] - census[1965]\n",
    "elapsed_time = last_year - first_year\n",
    "annual_growth = total_growth / elapsed_time\n",
    "annual_growth\n",
    "print(annual_growth)\n",
    "\n",
    "results = TimeSeries()\n",
    "results[1950] = census[1950]\n",
    "for t in linrange(1950, 2015):\n",
    "    results[t+1] = results[t] + annual_growth\n",
    "    \n",
    "newfig()\n",
    "plot_estimates(table2)\n",
    "plot(results, '--', color='gray', label='model')\n",
    "decorate(xlabel='Year', ylabel='World population (billion)')\n",
    "savefig('chap03-fig02.pdf')\n",
    "\n"
   ]
  },
  {
   "cell_type": "markdown",
   "metadata": {},
   "source": [
    "### Now with system objects"
   ]
  },
  {
   "cell_type": "markdown",
   "metadata": {},
   "source": [
    "We can rewrite the code from the previous section using system objects."
   ]
  },
  {
   "cell_type": "code",
   "execution_count": 43,
   "metadata": {
    "collapsed": true
   },
   "outputs": [],
   "source": [
    "t0 = census.index[0]\n",
    "t_end = census.index[-1]\n",
    "total_growth = census[t_end] - census[t0]\n",
    "elapsed_time = t_end - t0\n",
    "annual_growth = total_growth / elapsed_time"
   ]
  },
  {
   "cell_type": "markdown",
   "metadata": {},
   "source": [
    "Here's the system object."
   ]
  },
  {
   "cell_type": "code",
   "execution_count": 44,
   "metadata": {
    "collapsed": true
   },
   "outputs": [],
   "source": [
    "system = System(t0=t0, \n",
    "                t_end=t_end,\n",
    "                p0=census[t0],\n",
    "                annual_growth=annual_growth)"
   ]
  },
  {
   "cell_type": "markdown",
   "metadata": {},
   "source": [
    "And we can encapsulate the code tha runs the model in a function that stores the resulting Series as a new system variable."
   ]
  },
  {
   "cell_type": "code",
   "execution_count": 45,
   "metadata": {
    "collapsed": true
   },
   "outputs": [],
   "source": [
    "def run_simulation1(system):\n",
    "    \"\"\"Runs the constant growth model.\n",
    "    \n",
    "    Adds TimeSeries to `system` as `results`.\n",
    "    \n",
    "    system: system object\n",
    "    \"\"\"\n",
    "    results = TimeSeries()\n",
    "    results[system.t0] = system.p0\n",
    "    for t in linrange(system.t0, system.t_end):\n",
    "        results[t+1] = results[t] + system.annual_growth\n",
    "    system.results = results"
   ]
  },
  {
   "cell_type": "markdown",
   "metadata": {},
   "source": [
    "We can also encapsulate the code that plots the results."
   ]
  },
  {
   "cell_type": "code",
   "execution_count": 46,
   "metadata": {
    "collapsed": true
   },
   "outputs": [],
   "source": [
    "def plot_results(system, title=None):\n",
    "    \"\"\"Plot the estimates and the model.\n",
    "    \n",
    "    system: System object with `results`\n",
    "    \"\"\"\n",
    "    newfig()\n",
    "    plot_estimates(table2)\n",
    "    plot(system.results, '--', color='gray', label='model')\n",
    "    decorate(xlabel='Year', \n",
    "             ylabel='World population (billion)',\n",
    "             title=title)"
   ]
  },
  {
   "cell_type": "markdown",
   "metadata": {},
   "source": [
    "Here's how we run it."
   ]
  },
  {
   "cell_type": "code",
   "execution_count": 47,
   "metadata": {},
   "outputs": [
    {
     "data": {
      "image/png": "[encoded data removed]",
      "text/plain": [
       "<matplotlib.figure.Figure at 0x258295e5898>"
      ]
     },
     "metadata": {},
     "output_type": "display_data"
    }
   ],
   "source": [
    "run_simulation1(system)\n",
    "plot_results(system, title='Constant growth model')"
   ]
  },
  {
   "cell_type": "markdown",
   "metadata": {},
   "source": [
    "`plot_results` uses `decorate`, which takes parameters that specify the title of the figure, labels for the $x$ and $y$ axis, and limits for the axes.  To read the documentation of `decorate`, run the cells below."
   ]
  },
  {
   "cell_type": "code",
   "execution_count": 48,
   "metadata": {},
   "outputs": [
    {
     "name": "stdout",
     "output_type": "stream",
     "text": [
      "Help on function decorate in module modsim:\n",
      "\n",
      "decorate(**kwargs)\n",
      "    Decorate the current axes.\n",
      "    \n",
      "    Call decorate with keyword arguments like\n",
      "    \n",
      "    decorate(title='Title',\n",
      "             xlabel='x',\n",
      "             ylabel='y')\n",
      "    \n",
      "    The keyword arguments can be any of the axis properties\n",
      "    defined by Matplotlib.  To see the list, run plt.getp(plt.gca())\n",
      "    \n",
      "    In addition, you can use `legend=False` to suppress the legend.\n",
      "    \n",
      "    And you can use `loc` to indicate the location of the legend\n",
      "    (the default value is 'best')\n",
      "\n"
     ]
    }
   ],
   "source": [
    "help(decorate)"
   ]
  },
  {
   "cell_type": "code",
   "execution_count": 49,
   "metadata": {
    "scrolled": true
   },
   "outputs": [
    {
     "name": "stdout",
     "output_type": "stream",
     "text": [
      "    adjustable = box\n",
      "    agg_filter = None\n",
      "    alpha = None\n",
      "    anchor = C\n",
      "    animated = False\n",
      "    aspect = auto\n",
      "    autoscale_on = True\n",
      "    autoscalex_on = True\n",
      "    autoscaley_on = True\n",
      "    axes = Axes(0.125,0.125;0.775x0.755)\n",
      "    axes_locator = None\n",
      "    axis_bgcolor = (1.0, 1.0, 1.0, 1.0)\n",
      "    axisbelow = True\n",
      "    children = [<matplotlib.spines.Spine object at 0x000002582973...\n",
      "    clip_box = None\n",
      "    clip_on = True\n",
      "    clip_path = None\n",
      "    contains = None\n",
      "    cursor_props = (1, (0.0, 0.0, 0.0, 1))\n",
      "    data_ratio = 1.0\n",
      "    default_bbox_extra_artists = [<matplotlib.spines.Spine object at 0x000002582973...\n",
      "    facecolor = (1.0, 1.0, 1.0, 1.0)\n",
      "    fc = (1.0, 1.0, 1.0, 1.0)\n",
      "    figure = Figure(432x288)\n",
      "    frame_on = True\n",
      "    geometry = (1, 1, 1)\n",
      "    gid = None\n",
      "    images = <a list of 0 AxesImage objects>\n",
      "    label = \n",
      "    legend = None\n",
      "    legend_handles_labels = ([], [])\n",
      "    lines = <a list of 0 Line2D objects>\n",
      "    navigate = True\n",
      "    navigate_mode = None\n",
      "    path_effects = []\n",
      "    picker = None\n",
      "    position = Bbox(x0=0.125, y0=0.125, x1=0.9, y1=0.88)\n",
      "    rasterization_zorder = None\n",
      "    rasterized = None\n",
      "    renderer_cache = None\n",
      "    shared_x_axes = <matplotlib.cbook.Grouper object at 0x000002582570...\n",
      "    shared_y_axes = <matplotlib.cbook.Grouper object at 0x000002582570...\n",
      "    sketch_params = None\n",
      "    snap = None\n",
      "    subplotspec = <matplotlib.gridspec.SubplotSpec object at 0x00000...\n",
      "    title = \n",
      "    transform = IdentityTransform()\n",
      "    transformed_clip_path_and_affine = (None, None)\n",
      "    url = None\n",
      "    visible = True\n",
      "    window_extent = Bbox(x0=54.0, y0=36.0, x1=388.8, y1=253.44)\n",
      "    xaxis = XAxis(54.000000,36.000000)\n",
      "    xaxis_transform = BlendedGenericTransform(CompositeGenericTransform(...\n",
      "    xbound = (0.0, 1.0)\n",
      "    xgridlines = <a list of 6 Line2D xgridline objects>\n",
      "    xlabel = \n",
      "    xlim = (0.0, 1.0)\n",
      "    xmajorticklabels = <a list of 6 Text xticklabel objects>\n",
      "    xminorticklabels = <a list of 0 Text xticklabel objects>\n",
      "    xscale = linear\n",
      "    xticklabels = <a list of 6 Text xticklabel objects>\n",
      "    xticklines = <a list of 12 Text xtickline objects>\n",
      "    xticks = [ 0.   0.2  0.4  0.6  0.8  1. ]\n",
      "    yaxis = YAxis(54.000000,36.000000)\n",
      "    yaxis_transform = BlendedGenericTransform(BboxTransformTo(Transforme...\n",
      "    ybound = (0.0, 1.0)\n",
      "    ygridlines = <a list of 6 Line2D ygridline objects>\n",
      "    ylabel = \n",
      "    ylim = (0.0, 1.0)\n",
      "    ymajorticklabels = <a list of 6 Text yticklabel objects>\n",
      "    yminorticklabels = <a list of 0 Text yticklabel objects>\n",
      "    yscale = linear\n",
      "    yticklabels = <a list of 6 Text yticklabel objects>\n",
      "    yticklines = <a list of 12 Line2D ytickline objects>\n",
      "    yticks = [ 0.   0.2  0.4  0.6  0.8  1. ]\n",
      "    zorder = 0\n"
     ]
    },
    {
     "data": {
      "image/png": "[encoded data removed]",
      "text/plain": [
       "<matplotlib.figure.Figure at 0x2582976ee48>"
      ]
     },
     "metadata": {},
     "output_type": "display_data"
    }
   ],
   "source": [
    "plt.getp(plt.gca())"
   ]
  },
  {
   "cell_type": "markdown",
   "metadata": {},
   "source": [
    "**Exercise:** The constant growth model doesn't make a lot of sense, because it seems like the number of deaths and births should depend on the size of the population.  As a small improvement, let's write a version of `run_simulation1` where the number of deaths is proportional to the size of the population, but the number of births is constant.  This model doesn't make a lot of sense, either, but it's a good exercise.\n",
    "\n",
    "Write a function called `run_simulation1b` that implements a model where the number of births is constant, but the number of deaths is proportional to the current size of the population.  Set the death rate to `0.01`, which means that 1% of the population dies each year; then choose the number of annual births to make the model fit the data as well as you can.\n",
    "\n",
    "Hint: It probably won't fit very well."
   ]
  },
  {
   "cell_type": "code",
   "execution_count": 50,
   "metadata": {
    "collapsed": true
   },
   "outputs": [],
   "source": [
    "# Solution goes here\n",
    "def run_simulation1b(system, birth_num):\n",
    "    \"\"\"Runs the weird growth model.\n",
    "    \n",
    "    Adds TimeSeries to `system` as `results`.\n",
    "    \n",
    "    system: system object\n",
    "    \"\"\"\n",
    "    death_rate = .01\n",
    "    results = TimeSeries()\n",
    "    results[system.t0] = system.p0\n",
    "    for t in linrange(system.t0, system.t_end):\n",
    "        results[t+1] = results[t] * (1 - death_rate) + birth_num\n",
    "    system.results = results"
   ]
  },
  {
   "cell_type": "code",
   "execution_count": 51,
   "metadata": {},
   "outputs": [
    {
     "data": {
      "image/png": "[encoded data removed]",
      "text/plain": [
       "<matplotlib.figure.Figure at 0x25829788c88>"
      ]
     },
     "metadata": {},
     "output_type": "display_data"
    }
   ],
   "source": [
    "# Solution goes here\n",
    "run_simulation1b(system,.11)\n",
    "plot_results(system, title='Proportional growth model')"
   ]
  },
  {
   "cell_type": "markdown",
   "metadata": {},
   "source": [
    "## Proportional death, proportional birth"
   ]
  },
  {
   "cell_type": "markdown",
   "metadata": {},
   "source": [
    "Now let's get to a more realistic model where the number of births and deaths is proportional to the current population."
   ]
  },
  {
   "cell_type": "code",
   "execution_count": 52,
   "metadata": {
    "collapsed": true
   },
   "outputs": [],
   "source": [
    "def run_simulation2(system):\n",
    "    \"\"\"Runs the constant growth model.\n",
    "    \n",
    "    Adds TimeSeries to `system` as `results`.\n",
    "    \n",
    "    system: system object\n",
    "    \"\"\"\n",
    "    results = TimeSeries()\n",
    "    results[system.t0] = system.p0\n",
    "    for t in linrange(system.t0, system.t_end):\n",
    "        births = system.birth_rate * results[t]\n",
    "        deaths = system.death_rate * results[t]\n",
    "        results[t+1] = results[t] + births - deaths\n",
    "    system.results = results"
   ]
  },
  {
   "cell_type": "markdown",
   "metadata": {},
   "source": [
    "I kept the death rate at 1% and chose the birth rate to fit the data."
   ]
  },
  {
   "cell_type": "code",
   "execution_count": 53,
   "metadata": {
    "collapsed": true
   },
   "outputs": [],
   "source": [
    "system.death_rate = 0.01\n",
    "system.birth_rate = 0.027"
   ]
  },
  {
   "cell_type": "markdown",
   "metadata": {},
   "source": [
    "Here's what it looks like."
   ]
  },
  {
   "cell_type": "code",
   "execution_count": 54,
   "metadata": {},
   "outputs": [
    {
     "name": "stdout",
     "output_type": "stream",
     "text": [
      "Saving figure to file chap03-fig03.pdf\n"
     ]
    },
    {
     "data": {
      "image/png": "[encoded data removed]",
      "text/plain": [
       "<matplotlib.figure.Figure at 0x2582984a668>"
      ]
     },
     "metadata": {},
     "output_type": "display_data"
    }
   ],
   "source": [
    "run_simulation2(system)\n",
    "plot_results(system, title='Proportional model')\n",
    "savefig('chap03-fig03.pdf')"
   ]
  },
  {
   "cell_type": "markdown",
   "metadata": {},
   "source": [
    "The model fits the data pretty well for the first 20 years, but not so well after that."
   ]
  },
  {
   "cell_type": "markdown",
   "metadata": {},
   "source": [
    "**Exercise:** In this implementation, we compute the number of deaths and births separately, but since they are both proportional to the current population, we can combine them.\n",
    "\n",
    "Write a function called `run_simulation2b` that implements a model with a single parameter, `alpha`, that represents the net growth rate, which is the difference between the birth and death rates.  For example, if `alpha=0.01`, the population should grow by 1% per year.\n",
    "\n",
    "Choose the value of `alpha` that fits the data best."
   ]
  },
  {
   "cell_type": "code",
   "execution_count": 55,
   "metadata": {
    "collapsed": true
   },
   "outputs": [],
   "source": [
    "# Solution goes here\n",
    "def run_simulation2b(alpha):\n",
    "    \"\"\"Runs the alpha growth model.\n",
    "    \n",
    "    Adds TimeSeries to `system` as `results`.\n",
    "    \n",
    "    system: system object\n",
    "    \"\"\"\n",
    "    results = TimeSeries()\n",
    "    results[system.t0] = system.p0\n",
    "    for t in linrange(system.t0, system.t_end):\n",
    "        results[t+1] = results[t] * (1 + alpha)\n",
    "    system.results = results"
   ]
  },
  {
   "cell_type": "code",
   "execution_count": 56,
   "metadata": {},
   "outputs": [
    {
     "data": {
      "image/png": "[encoded data removed]",
      "text/plain": [
       "<matplotlib.figure.Figure at 0x25829788c18>"
      ]
     },
     "metadata": {},
     "output_type": "display_data"
    }
   ],
   "source": [
    "# Solution goes here\n",
    "\n",
    "run_simulation2b(.017)\n",
    "plot_results(system)\n",
    "\n"
   ]
  },
  {
   "cell_type": "markdown",
   "metadata": {},
   "source": [
    "### Factoring out the update function"
   ]
  },
  {
   "cell_type": "markdown",
   "metadata": {},
   "source": [
    "The functions that run the model all look the same except the body of the loop.  So we can factor that part out into a function."
   ]
  },
  {
   "cell_type": "code",
   "execution_count": 57,
   "metadata": {
    "collapsed": true
   },
   "outputs": [],
   "source": [
    "def update_func1(pop, t, system):\n",
    "    \"\"\"Compute the population next year.\n",
    "    \n",
    "    pop: current population\n",
    "    t: current year\n",
    "    system: system object containing parameters of the model\n",
    "    \n",
    "    returns: population next year\n",
    "    \"\"\"\n",
    "    births = system.birth_rate * pop\n",
    "    deaths = system.death_rate * pop\n",
    "    return pop + births - deaths"
   ]
  },
  {
   "cell_type": "markdown",
   "metadata": {},
   "source": [
    "Now the name `update_func1` refers to a function object."
   ]
  },
  {
   "cell_type": "code",
   "execution_count": 58,
   "metadata": {},
   "outputs": [
    {
     "data": {
      "text/plain": [
       "<function __main__.update_func1>"
      ]
     },
     "execution_count": 58,
     "metadata": {},
     "output_type": "execute_result"
    }
   ],
   "source": [
    "update_func1"
   ]
  },
  {
   "cell_type": "markdown",
   "metadata": {},
   "source": [
    "Which we can confirm by checking its type."
   ]
  },
  {
   "cell_type": "code",
   "execution_count": 59,
   "metadata": {},
   "outputs": [
    {
     "data": {
      "text/plain": [
       "function"
      ]
     },
     "execution_count": 59,
     "metadata": {},
     "output_type": "execute_result"
    }
   ],
   "source": [
    "type(update_func1)"
   ]
  },
  {
   "cell_type": "markdown",
   "metadata": {},
   "source": [
    "`run_simulation` takes the update function as a parameter and calls it just like any other function."
   ]
  },
  {
   "cell_type": "code",
   "execution_count": 60,
   "metadata": {
    "collapsed": true
   },
   "outputs": [],
   "source": [
    "def run_simulation(system, update_func):\n",
    "    \"\"\"Simulate the system using any update function.\n",
    "    \n",
    "    Adds TimeSeries to `system` as `results`.\n",
    "\n",
    "    system: System object\n",
    "    update_func: function that computes the population next year\n",
    "    \"\"\"\n",
    "    results = TimeSeries()\n",
    "    results[system.t0] = system.p0\n",
    "    for t in linrange(system.t0, system.t_end):\n",
    "        results[t+1] = update_func(results[t], t, system)\n",
    "    system.results = results"
   ]
  },
  {
   "cell_type": "markdown",
   "metadata": {},
   "source": [
    "Here's how we use it."
   ]
  },
  {
   "cell_type": "code",
   "execution_count": 63,
   "metadata": {},
   "outputs": [
    {
     "ename": "TypeError",
     "evalue": "update_func1() missing 3 required positional arguments: 'pop', 't', and 'system'",
     "output_type": "error",
     "traceback": [
      "\u001b[1;31m---------------------------------------------------------------------------\u001b[0m",
      "\u001b[1;31mTypeError\u001b[0m                                 Traceback (most recent call last)",
      "\u001b[1;32m<ipython-input-63-b31793693b6b>\u001b[0m in \u001b[0;36m<module>\u001b[1;34m()\u001b[0m\n\u001b[1;32m----> 1\u001b[1;33m \u001b[0mrun_simulation\u001b[0m\u001b[1;33m(\u001b[0m\u001b[0msystem\u001b[0m\u001b[1;33m,\u001b[0m \u001b[0mupdate_func1\u001b[0m\u001b[1;33m(\u001b[0m\u001b[1;33m)\u001b[0m\u001b[1;33m)\u001b[0m\u001b[1;33m\u001b[0m\u001b[0m\n\u001b[0m",
      "\u001b[1;31mTypeError\u001b[0m: update_func1() missing 3 required positional arguments: 'pop', 't', and 'system'"
     ]
    }
   ],
   "source": [
    "run_simulation(system, update_func1())"
   ]
  },
  {
   "cell_type": "markdown",
   "metadata": {},
   "source": [
    "Remember not to put parentheses after `update_func1`.  What happens if you try?"
   ]
  },
  {
   "cell_type": "code",
   "execution_count": 64,
   "metadata": {},
   "outputs": [
    {
     "data": {
      "image/png": "[encoded data removed]",
      "text/plain": [
       "<matplotlib.figure.Figure at 0x258298eb550>"
      ]
     },
     "metadata": {},
     "output_type": "display_data"
    }
   ],
   "source": [
    "plot_results(system, title='Proportional model, factored')"
   ]
  },
  {
   "cell_type": "markdown",
   "metadata": {},
   "source": [
    "**Exercise:** When you run `run_simulation`, it runs `update_func1` once for each year between `t0` and `t_end`.  To see that for yourself, add a print statement at the beginning of `update_func1` that prints the values of `t` and `pop`, then run `run_simulation` again."
   ]
  },
  {
   "cell_type": "markdown",
   "metadata": {},
   "source": [
    "### Combining birth and death"
   ]
  },
  {
   "cell_type": "markdown",
   "metadata": {},
   "source": [
    "Since births and deaths get added up, we don't have to compute them separately.  We can combine the birth and death rates into a single net growth rate."
   ]
  },
  {
   "cell_type": "code",
   "execution_count": 65,
   "metadata": {
    "collapsed": true
   },
   "outputs": [],
   "source": [
    "def update_func1b(pop, t, system):\n",
    "    \"\"\"Compute the population next year.\n",
    "    \n",
    "    pop: current population\n",
    "    t: current year\n",
    "    system: system object containing parameters of the model\n",
    "    \n",
    "    returns: population next year\n",
    "    \"\"\"\n",
    "    net_growth = system.alpha  * pop\n",
    "    return pop + net_growth"
   ]
  },
  {
   "cell_type": "markdown",
   "metadata": {},
   "source": [
    "Here's how it works:"
   ]
  },
  {
   "cell_type": "code",
   "execution_count": 66,
   "metadata": {},
   "outputs": [
    {
     "data": {
      "image/png": "[encoded data removed]",
      "text/plain": [
       "<matplotlib.figure.Figure at 0x25829a951d0>"
      ]
     },
     "metadata": {},
     "output_type": "display_data"
    }
   ],
   "source": [
    "system.alpha = system.birth_rate - system.death_rate\n",
    "\n",
    "run_simulation(system, update_func1b)\n",
    "plot_results(system, title='Proportional model, combined birth and death')"
   ]
  },
  {
   "cell_type": "markdown",
   "metadata": {},
   "source": [
    "**Exercise:** Maybe the reason the proportional model doesn't work very well is that the growth rate, `alpha`, might be changing over time.  So let's try a model with different growth rates before and after 1980 (as an arbitrary choice).\n",
    "\n",
    "Write a function called `update_func1c` that takes `pop`, `t`, and `system` as parameters.  The system object, `system`, should contains two parameters: the growth rate before 1980, `alpha1`, and the growth rate after 1980, `alpha2`.  It should compute and return the simulated population one year later.\n",
    "\n",
    "Note: Don't forget the `return` statement."
   ]
  },
  {
   "cell_type": "code",
   "execution_count": 67,
   "metadata": {
    "collapsed": true,
    "scrolled": false
   },
   "outputs": [],
   "source": [
    "# Solution goes here\n",
    "def update_func1c(pop,t,system):\n",
    "    \"\"\"Compute the population next year.\n",
    "    \n",
    "    pop: current population\n",
    "    t: current year\n",
    "    system: system object containing parameters of the model\n",
    "    \n",
    "    returns: population next year\n",
    "    \"\"\"\n",
    "    if(t < 1980):\n",
    "        net_growth = system.alpha1  * pop\n",
    "    else:\n",
    "        net_growth = system.alpha2 * pop\n",
    "    return pop + net_growth"
   ]
  },
  {
   "cell_type": "code",
   "execution_count": 73,
   "metadata": {},
   "outputs": [
    {
     "data": {
      "image/png": "[encoded data removed]",
      "text/plain": [
       "<matplotlib.figure.Figure at 0x2582adde668>"
      ]
     },
     "metadata": {},
     "output_type": "display_data"
    }
   ],
   "source": [
    "# Solution goes here\n",
    "system.alpha1 = .02\n",
    "system.alpha2 = .015\n",
    "\n",
    "run_simulation(system, update_func1c)\n",
    "plot_results(system, title='Proportional model with 1980 thing, combined birth and death')"
   ]
  },
  {
   "cell_type": "markdown",
   "metadata": {},
   "source": [
    "### Quadratic growth"
   ]
  },
  {
   "cell_type": "markdown",
   "metadata": {},
   "source": [
    "Here's the implementation of the quadratic growth model."
   ]
  },
  {
   "cell_type": "code",
   "execution_count": 74,
   "metadata": {
    "collapsed": true
   },
   "outputs": [],
   "source": [
    "def update_func2(pop, t, system):\n",
    "    \"\"\"Compute the population next year.\n",
    "    \n",
    "    pop: current population\n",
    "    t: current year\n",
    "    system: system object containing parameters of the model\n",
    "    \n",
    "    returns: population next year\n",
    "    \"\"\"\n",
    "    net_growth = system.alpha * pop + system.beta * pop**2\n",
    "    return pop + net_growth"
   ]
  },
  {
   "cell_type": "markdown",
   "metadata": {},
   "source": [
    "And here are the results.  Can you find values for the parameters that make the model fit better?"
   ]
  },
  {
   "cell_type": "code",
   "execution_count": 85,
   "metadata": {},
   "outputs": [
    {
     "name": "stdout",
     "output_type": "stream",
     "text": [
      "Saving figure to file chap03-fig04.pdf\n"
     ]
    },
    {
     "data": {
      "image/png": "[encoded data removed]",
      "text/plain": [
       "<matplotlib.figure.Figure at 0x2582b69e9b0>"
      ]
     },
     "metadata": {},
     "output_type": "display_data"
    }
   ],
   "source": [
    "system.alpha = 0.024\n",
    "system.beta = -0.0016\n",
    "\n",
    "run_simulation(system, update_func2)\n",
    "plot_results(system, title='Quadratic model')\n",
    "savefig('chap03-fig04.pdf')"
   ]
  },
  {
   "cell_type": "markdown",
   "metadata": {},
   "source": [
    "To understand the quadratic model better, let's plot net growth as a function of population."
   ]
  },
  {
   "cell_type": "code",
   "execution_count": 87,
   "metadata": {
    "collapsed": true
   },
   "outputs": [],
   "source": [
    "pop_array = linspace(0.001, 15, 100)\n",
    "net_growth_array = system.alpha * pop_array + system.beta * pop_array**2"
   ]
  },
  {
   "cell_type": "markdown",
   "metadata": {},
   "source": [
    "Here's what it looks like.  Remember that the x axis is population now, not time.\n",
    "\n",
    "The function `sns.set` sets the style for the plots.  I added a grid to this one to make it easier to read."
   ]
  },
  {
   "cell_type": "code",
   "execution_count": 88,
   "metadata": {
    "scrolled": true
   },
   "outputs": [
    {
     "name": "stdout",
     "output_type": "stream",
     "text": [
      "Saving figure to file chap03-fig05.pdf\n"
     ]
    },
    {
     "data": {
      "image/png": "[encoded data removed]",
      "text/plain": [
       "<matplotlib.figure.Figure at 0x2582b6b1be0>"
      ]
     },
     "metadata": {},
     "output_type": "display_data"
    }
   ],
   "source": [
    "newfig()\n",
    "sns.set(style='whitegrid', font_scale=1.5)\n",
    "plot(pop_array, net_growth_array, '-')\n",
    "decorate(xlabel='Population (billions)',\n",
    "         ylabel='Net growth (billions)',\n",
    "         legend=False)\n",
    "savefig('chap03-fig05.pdf')"
   ]
  },
  {
   "cell_type": "markdown",
   "metadata": {},
   "source": [
    "Using `sns.set` to reset the plot style."
   ]
  },
  {
   "cell_type": "code",
   "execution_count": 89,
   "metadata": {
    "collapsed": true
   },
   "outputs": [],
   "source": [
    "sns.set(style='white', font_scale=1.5)"
   ]
  },
  {
   "cell_type": "markdown",
   "metadata": {},
   "source": [
    "In the book we found that the net growth is 0 when the population is $-\\alpha/\\beta$:"
   ]
  },
  {
   "cell_type": "code",
   "execution_count": 90,
   "metadata": {},
   "outputs": [
    {
     "data": {
      "text/plain": [
       "15.0"
      ]
     },
     "execution_count": 90,
     "metadata": {},
     "output_type": "execute_result"
    }
   ],
   "source": [
    "-system.alpha / system.beta"
   ]
  },
  {
   "cell_type": "markdown",
   "metadata": {},
   "source": [
    "This is the equilibrium the population tends toward."
   ]
  },
  {
   "cell_type": "markdown",
   "metadata": {},
   "source": [
    "**Exercise:** In the book, I presented a different way to parameterize the quadratic model:\n",
    "\n",
    "$ \\Delta p = r p (1 - p / K) $\n",
    "\n",
    "where $r=\\alpha$ and $K=-\\alpha/\\beta$.  Write a version of `update_func2` that implements this version of the model.  Test it by computing system variables `r` and `K` equivalent to `alpha` and `beta`, and confirm that you get the same results. "
   ]
  },
  {
   "cell_type": "code",
   "execution_count": 94,
   "metadata": {},
   "outputs": [],
   "source": [
    "# Solution goes here\n",
    "def update_func2(pop, t, system):\n",
    "    \"\"\"Compute the population next year.\n",
    "    \n",
    "    pop: current population\n",
    "    t: current year\n",
    "    system: system object containing parameters of the model\n",
    "    \n",
    "    returns: population next year\n",
    "    \"\"\"\n",
    "    r = system.alpha\n",
    "    K = -system.alpha / system.beta\n",
    "    net_growth = r * pop * (1 - pop / K)\n",
    "    return pop + net_growth"
   ]
  },
  {
   "cell_type": "code",
   "execution_count": 105,
   "metadata": {},
   "outputs": [
    {
     "name": "stdout",
     "output_type": "stream",
     "text": [
      "Saving figure to file chap03-fig04.pdf\n"
     ]
    },
    {
     "data": {
      "image/png": "[encoded data removed]",
      "text/plain": [
       "<matplotlib.figure.Figure at 0x2582caa1e48>"
      ]
     },
     "metadata": {},
     "output_type": "display_data"
    }
   ],
   "source": [
    "# Solution goes here\n",
    "system.alpha = 0.024\n",
    "system.beta = -0.0016\n",
    "\n",
    "run_simulation(system, update_func2)\n",
    "plot_results(system, title='Quadratic model')\n",
    "savefig('chap03-fig04.pdf')"
   ]
  },
  {
   "cell_type": "code",
   "execution_count": 96,
   "metadata": {
    "collapsed": true
   },
   "outputs": [],
   "source": [
    "# Solution goes here\n",
    "\n"
   ]
  },
  {
   "cell_type": "markdown",
   "metadata": {},
   "source": [
    "**Exercise:** On the Wikipedia page about world population estimates, the first table contains estimates for prehistoric populations.  The following cells process this table and plot some of the results."
   ]
  },
  {
   "cell_type": "markdown",
   "metadata": {},
   "source": [
    "Select `table1`, which is the second table on the page."
   ]
  },
  {
   "cell_type": "code",
   "execution_count": 97,
   "metadata": {},
   "outputs": [
    {
     "data": {
      "text/html": [
       "<div>\n",
       "<style>\n",
       "    .dataframe thead tr:only-child th {\n",
       "        text-align: right;\n",
       "    }\n",
       "\n",
       "    .dataframe thead th {\n",
       "        text-align: left;\n",
       "    }\n",
       "\n",
       "    .dataframe tbody tr th {\n",
       "        vertical-align: top;\n",
       "    }\n",
       "</style>\n",
       "<table border=\"1\" class=\"dataframe\">\n",
       "  <thead>\n",
       "    <tr style=\"text-align: right;\">\n",
       "      <th></th>\n",
       "      <th>Population Reference Bureau (1973–2015)[6]</th>\n",
       "      <th>United Nations Department of Economic and Social Affairs (2015)[7]</th>\n",
       "      <th>Maddison (2008)[8]</th>\n",
       "      <th>HYDE (2010)[citation needed]</th>\n",
       "      <th>Tanton (1994)[9]</th>\n",
       "      <th>Biraben (1980)[10]</th>\n",
       "      <th>McEvedy &amp; Jones (1978)[11]</th>\n",
       "      <th>Thomlinson (1975)[12]</th>\n",
       "      <th>Durand (1974)[13]</th>\n",
       "      <th>Clark (1967)[14]</th>\n",
       "    </tr>\n",
       "    <tr>\n",
       "      <th>Year</th>\n",
       "      <th></th>\n",
       "      <th></th>\n",
       "      <th></th>\n",
       "      <th></th>\n",
       "      <th></th>\n",
       "      <th></th>\n",
       "      <th></th>\n",
       "      <th></th>\n",
       "      <th></th>\n",
       "      <th></th>\n",
       "    </tr>\n",
       "  </thead>\n",
       "  <tbody>\n",
       "    <tr>\n",
       "      <th>-10000</th>\n",
       "      <td>NaN</td>\n",
       "      <td>NaN</td>\n",
       "      <td>NaN</td>\n",
       "      <td>2M[15]</td>\n",
       "      <td>NaN</td>\n",
       "      <td>NaN</td>\n",
       "      <td>4.0</td>\n",
       "      <td>1–10M</td>\n",
       "      <td>NaN</td>\n",
       "      <td>NaN</td>\n",
       "    </tr>\n",
       "    <tr>\n",
       "      <th>-9000</th>\n",
       "      <td>NaN</td>\n",
       "      <td>NaN</td>\n",
       "      <td>NaN</td>\n",
       "      <td>4.</td>\n",
       "      <td>NaN</td>\n",
       "      <td>NaN</td>\n",
       "      <td>NaN</td>\n",
       "      <td>NaN</td>\n",
       "      <td>NaN</td>\n",
       "      <td>NaN</td>\n",
       "    </tr>\n",
       "    <tr>\n",
       "      <th>-8000</th>\n",
       "      <td>5.0</td>\n",
       "      <td>NaN</td>\n",
       "      <td>NaN</td>\n",
       "      <td>5.</td>\n",
       "      <td>NaN</td>\n",
       "      <td>NaN</td>\n",
       "      <td>NaN</td>\n",
       "      <td>NaN</td>\n",
       "      <td>5–10M</td>\n",
       "      <td>NaN</td>\n",
       "    </tr>\n",
       "    <tr>\n",
       "      <th>-7000</th>\n",
       "      <td>NaN</td>\n",
       "      <td>NaN</td>\n",
       "      <td>NaN</td>\n",
       "      <td>8.</td>\n",
       "      <td>NaN</td>\n",
       "      <td>NaN</td>\n",
       "      <td>NaN</td>\n",
       "      <td>NaN</td>\n",
       "      <td>NaN</td>\n",
       "      <td>NaN</td>\n",
       "    </tr>\n",
       "    <tr>\n",
       "      <th>-6000</th>\n",
       "      <td>NaN</td>\n",
       "      <td>NaN</td>\n",
       "      <td>NaN</td>\n",
       "      <td>11.</td>\n",
       "      <td>NaN</td>\n",
       "      <td>NaN</td>\n",
       "      <td>NaN</td>\n",
       "      <td>NaN</td>\n",
       "      <td>NaN</td>\n",
       "      <td>NaN</td>\n",
       "    </tr>\n",
       "  </tbody>\n",
       "</table>\n",
       "</div>"
      ],
      "text/plain": [
       "        Population Reference Bureau (1973–2015)[6]  \\\n",
       "Year                                                 \n",
       "-10000                                         NaN   \n",
       "-9000                                          NaN   \n",
       "-8000                                          5.0   \n",
       "-7000                                          NaN   \n",
       "-6000                                          NaN   \n",
       "\n",
       "        United Nations Department of Economic and Social Affairs (2015)[7]  \\\n",
       "Year                                                                         \n",
       "-10000                                                NaN                    \n",
       "-9000                                                 NaN                    \n",
       "-8000                                                 NaN                    \n",
       "-7000                                                 NaN                    \n",
       "-6000                                                 NaN                    \n",
       "\n",
       "       Maddison (2008)[8] HYDE (2010)[citation needed]  Tanton (1994)[9]  \\\n",
       "Year                                                                       \n",
       "-10000                NaN                       2M[15]               NaN   \n",
       "-9000                 NaN                           4.               NaN   \n",
       "-8000                 NaN                           5.               NaN   \n",
       "-7000                 NaN                           8.               NaN   \n",
       "-6000                 NaN                          11.               NaN   \n",
       "\n",
       "        Biraben (1980)[10]  McEvedy & Jones (1978)[11] Thomlinson (1975)[12]  \\\n",
       "Year                                                                           \n",
       "-10000                 NaN                         4.0                 1–10M   \n",
       "-9000                  NaN                         NaN                   NaN   \n",
       "-8000                  NaN                         NaN                   NaN   \n",
       "-7000                  NaN                         NaN                   NaN   \n",
       "-6000                  NaN                         NaN                   NaN   \n",
       "\n",
       "       Durand (1974)[13] Clark (1967)[14]  \n",
       "Year                                       \n",
       "-10000               NaN              NaN  \n",
       "-9000                NaN              NaN  \n",
       "-8000              5–10M              NaN  \n",
       "-7000                NaN              NaN  \n",
       "-6000                NaN              NaN  "
      ]
     },
     "execution_count": 97,
     "metadata": {},
     "output_type": "execute_result"
    }
   ],
   "source": [
    "table1 = tables[1]\n",
    "table1.head()"
   ]
  },
  {
   "cell_type": "markdown",
   "metadata": {},
   "source": [
    "Not all agencies and researchers provided estimates for the same dates.  Again `NaN` is the special value that indicates missing data."
   ]
  },
  {
   "cell_type": "code",
   "execution_count": 98,
   "metadata": {},
   "outputs": [
    {
     "data": {
      "text/html": [
       "<div>\n",
       "<style>\n",
       "    .dataframe thead tr:only-child th {\n",
       "        text-align: right;\n",
       "    }\n",
       "\n",
       "    .dataframe thead th {\n",
       "        text-align: left;\n",
       "    }\n",
       "\n",
       "    .dataframe tbody tr th {\n",
       "        vertical-align: top;\n",
       "    }\n",
       "</style>\n",
       "<table border=\"1\" class=\"dataframe\">\n",
       "  <thead>\n",
       "    <tr style=\"text-align: right;\">\n",
       "      <th></th>\n",
       "      <th>Population Reference Bureau (1973–2015)[6]</th>\n",
       "      <th>United Nations Department of Economic and Social Affairs (2015)[7]</th>\n",
       "      <th>Maddison (2008)[8]</th>\n",
       "      <th>HYDE (2010)[citation needed]</th>\n",
       "      <th>Tanton (1994)[9]</th>\n",
       "      <th>Biraben (1980)[10]</th>\n",
       "      <th>McEvedy &amp; Jones (1978)[11]</th>\n",
       "      <th>Thomlinson (1975)[12]</th>\n",
       "      <th>Durand (1974)[13]</th>\n",
       "      <th>Clark (1967)[14]</th>\n",
       "    </tr>\n",
       "    <tr>\n",
       "      <th>Year</th>\n",
       "      <th></th>\n",
       "      <th></th>\n",
       "      <th></th>\n",
       "      <th></th>\n",
       "      <th></th>\n",
       "      <th></th>\n",
       "      <th></th>\n",
       "      <th></th>\n",
       "      <th></th>\n",
       "      <th></th>\n",
       "    </tr>\n",
       "  </thead>\n",
       "  <tbody>\n",
       "    <tr>\n",
       "      <th>1913</th>\n",
       "      <td>NaN</td>\n",
       "      <td>NaN</td>\n",
       "      <td>1793.</td>\n",
       "      <td>NaN</td>\n",
       "      <td>NaN</td>\n",
       "      <td>NaN</td>\n",
       "      <td>NaN</td>\n",
       "      <td>NaN</td>\n",
       "      <td>NaN</td>\n",
       "      <td>NaN</td>\n",
       "    </tr>\n",
       "    <tr>\n",
       "      <th>1920</th>\n",
       "      <td>NaN</td>\n",
       "      <td>1860.0</td>\n",
       "      <td>1863.</td>\n",
       "      <td>1912.</td>\n",
       "      <td>NaN</td>\n",
       "      <td>NaN</td>\n",
       "      <td>NaN</td>\n",
       "      <td>NaN</td>\n",
       "      <td>NaN</td>\n",
       "      <td>1968.</td>\n",
       "    </tr>\n",
       "    <tr>\n",
       "      <th>1925</th>\n",
       "      <td>NaN</td>\n",
       "      <td>NaN</td>\n",
       "      <td>NaN</td>\n",
       "      <td>NaN</td>\n",
       "      <td>NaN</td>\n",
       "      <td>NaN</td>\n",
       "      <td>2000.0</td>\n",
       "      <td>NaN</td>\n",
       "      <td>NaN</td>\n",
       "      <td>NaN</td>\n",
       "    </tr>\n",
       "    <tr>\n",
       "      <th>1930</th>\n",
       "      <td>NaN</td>\n",
       "      <td>2070.0</td>\n",
       "      <td>NaN</td>\n",
       "      <td>2092.</td>\n",
       "      <td>NaN</td>\n",
       "      <td>NaN</td>\n",
       "      <td>NaN</td>\n",
       "      <td>NaN</td>\n",
       "      <td>NaN</td>\n",
       "      <td>2145.</td>\n",
       "    </tr>\n",
       "    <tr>\n",
       "      <th>1940</th>\n",
       "      <td>NaN</td>\n",
       "      <td>2300.0</td>\n",
       "      <td>2299.</td>\n",
       "      <td>2307.</td>\n",
       "      <td>NaN</td>\n",
       "      <td>NaN</td>\n",
       "      <td>NaN</td>\n",
       "      <td>NaN</td>\n",
       "      <td>NaN</td>\n",
       "      <td>2340.</td>\n",
       "    </tr>\n",
       "  </tbody>\n",
       "</table>\n",
       "</div>"
      ],
      "text/plain": [
       "      Population Reference Bureau (1973–2015)[6]  \\\n",
       "Year                                               \n",
       "1913                                         NaN   \n",
       "1920                                         NaN   \n",
       "1925                                         NaN   \n",
       "1930                                         NaN   \n",
       "1940                                         NaN   \n",
       "\n",
       "      United Nations Department of Economic and Social Affairs (2015)[7]  \\\n",
       "Year                                                                       \n",
       "1913                                                NaN                    \n",
       "1920                                             1860.0                    \n",
       "1925                                                NaN                    \n",
       "1930                                             2070.0                    \n",
       "1940                                             2300.0                    \n",
       "\n",
       "     Maddison (2008)[8] HYDE (2010)[citation needed]  Tanton (1994)[9]  \\\n",
       "Year                                                                     \n",
       "1913              1793.                          NaN               NaN   \n",
       "1920              1863.                        1912.               NaN   \n",
       "1925                NaN                          NaN               NaN   \n",
       "1930                NaN                        2092.               NaN   \n",
       "1940              2299.                        2307.               NaN   \n",
       "\n",
       "      Biraben (1980)[10]  McEvedy & Jones (1978)[11] Thomlinson (1975)[12]  \\\n",
       "Year                                                                         \n",
       "1913                 NaN                         NaN                   NaN   \n",
       "1920                 NaN                         NaN                   NaN   \n",
       "1925                 NaN                      2000.0                   NaN   \n",
       "1930                 NaN                         NaN                   NaN   \n",
       "1940                 NaN                         NaN                   NaN   \n",
       "\n",
       "     Durand (1974)[13] Clark (1967)[14]  \n",
       "Year                                     \n",
       "1913               NaN              NaN  \n",
       "1920               NaN            1968.  \n",
       "1925               NaN              NaN  \n",
       "1930               NaN            2145.  \n",
       "1940               NaN            2340.  "
      ]
     },
     "execution_count": 98,
     "metadata": {},
     "output_type": "execute_result"
    }
   ],
   "source": [
    "table1.tail()"
   ]
  },
  {
   "cell_type": "markdown",
   "metadata": {},
   "source": [
    "Some of the estimates are in a form we can't read as numbers.  We could clean them up by hand, but for simplicity I'll replace any value that has an `M` in it with `NaN`."
   ]
  },
  {
   "cell_type": "code",
   "execution_count": 99,
   "metadata": {
    "collapsed": true
   },
   "outputs": [],
   "source": [
    "table1.replace('M', np.nan, regex=True, inplace=True)"
   ]
  },
  {
   "cell_type": "markdown",
   "metadata": {},
   "source": [
    "Again, we'll replace the long column names with more convenient abbreviations."
   ]
  },
  {
   "cell_type": "code",
   "execution_count": 100,
   "metadata": {
    "collapsed": true
   },
   "outputs": [],
   "source": [
    "table1.columns = ['prb', 'un', 'maddison', 'hyde', 'tanton', \n",
    "                  'biraben', 'mj', 'thomlinson', 'durand', 'clark']"
   ]
  },
  {
   "cell_type": "markdown",
   "metadata": {},
   "source": [
    "This function plots selected estimates."
   ]
  },
  {
   "cell_type": "code",
   "execution_count": 101,
   "metadata": {
    "collapsed": true
   },
   "outputs": [],
   "source": [
    "def plot_prehistory(table):\n",
    "    \"\"\"Plots population estimates.\n",
    "    \n",
    "    table: DataFrame\n",
    "    \"\"\"\n",
    "    plot(table.prb, 'ro', label='PRB')\n",
    "    plot(table.un, 'co', label='UN')\n",
    "    plot(table.hyde, 'yo', label='HYDE')\n",
    "    plot(table.tanton, 'go', label='Tanton')\n",
    "    plot(table.biraben, 'bo', label='Biraben')\n",
    "    plot(table.mj, 'mo', label='McEvedy & Jones')"
   ]
  },
  {
   "cell_type": "markdown",
   "metadata": {},
   "source": [
    "Here are the results.  Notice that we are working in millions now, not billions."
   ]
  },
  {
   "cell_type": "code",
   "execution_count": 102,
   "metadata": {
    "scrolled": false
   },
   "outputs": [
    {
     "data": {
      "image/png": "[encoded data removed]",
      "text/plain": [
       "<matplotlib.figure.Figure at 0x2582c8e51d0>"
      ]
     },
     "metadata": {},
     "output_type": "display_data"
    }
   ],
   "source": [
    "newfig()\n",
    "plot_prehistory(table1)\n",
    "decorate(xlabel='Year', \n",
    "         ylabel='World population (millions)',\n",
    "         title='Prehistorical population estimates')"
   ]
  },
  {
   "cell_type": "markdown",
   "metadata": {},
   "source": [
    "We can use `xlim` to zoom in on everything after Year 0."
   ]
  },
  {
   "cell_type": "code",
   "execution_count": 103,
   "metadata": {},
   "outputs": [
    {
     "data": {
      "image/png": "[encoded data removed]",
      "text/plain": [
       "<matplotlib.figure.Figure at 0x2582c9ad240>"
      ]
     },
     "metadata": {},
     "output_type": "display_data"
    }
   ],
   "source": [
    "newfig()\n",
    "plot_prehistory(table1)\n",
    "decorate(xlim=[0, 2000], xlabel='Year', \n",
    "         ylabel='World population (millions)',\n",
    "         title='Prehistorical population estimates')"
   ]
  },
  {
   "cell_type": "markdown",
   "metadata": {},
   "source": [
    "See if you can find a model that fits these data well from Year -1000 to 1940, or from Year 0 to 1940.\n",
    "\n",
    "How well does your best model predict actual population growth from 1950 to the present?"
   ]
  },
  {
   "cell_type": "code",
   "execution_count": 162,
   "metadata": {},
   "outputs": [],
   "source": [
    "def update_func3(pop, t, system):\n",
    "    \"\"\"Compute the population next year.\n",
    "    \n",
    "    pop: current population\n",
    "    t: current year\n",
    "    system: system object containing parameters of the model\n",
    "    \n",
    "    returns: population next year\n",
    "    \"\"\"\n",
    "    if (t < system.time_change):\n",
    "        net_growth = system.alpha1  * pop\n",
    "    else:\n",
    "        net_growth = system.alpha2  * pop\n",
    "    return pop + net_growth\n"
   ]
  },
  {
   "cell_type": "code",
   "execution_count": 178,
   "metadata": {},
   "outputs": [
    {
     "data": {
      "image/png": "[encoded data removed]",
      "text/plain": [
       "<matplotlib.figure.Figure at 0x2583752a128>"
      ]
     },
     "metadata": {},
     "output_type": "display_data"
    }
   ],
   "source": [
    "# Solution goes here\n",
    "newfig()\n",
    "plot_prehistory(table1)\n",
    "decorate(xlim=[-1000, 1940], xlabel='Year', \n",
    "         ylabel='World population (millions)',\n",
    "         title='Prehistorical population estimates')\n",
    "system2 = System()\n",
    "system2.alpha1 = .00009\n",
    "system2.alpha2 = .003\n",
    "system2.p0 = 150\n",
    "system2.t0 = -1000\n",
    "system2.t_end = 1940\n",
    "system2.time_change = 1200\n",
    "\n",
    "run_simulation(system2, update_func3)\n",
    "\n",
    "plot(system2.results)\n"
   ]
  },
  {
   "cell_type": "code",
   "execution_count": 75,
   "metadata": {
    "collapsed": true
   },
   "outputs": [],
   "source": []
  },
  {
   "cell_type": "code",
   "execution_count": null,
   "metadata": {
    "collapsed": true
   },
   "outputs": [],
   "source": []
  },
  {
   "cell_type": "code",
   "execution_count": null,
   "metadata": {
    "collapsed": true
   },
   "outputs": [],
   "source": []
  }
 ],
 "metadata": {
  "kernelspec": {
   "display_name": "Python 3",
   "language": "python",
   "name": "python3"
  },
  "language_info": {
   "codemirror_mode": {
    "name": "ipython",
    "version": 3
   },
   "file_extension": ".py",
   "mimetype": "text/x-python",
   "name": "python",
   "nbconvert_exporter": "python",
   "pygments_lexer": "ipython3",
   "version": "3.6.1"
  }
 },
 "nbformat": 4,
 "nbformat_minor": 1
}
